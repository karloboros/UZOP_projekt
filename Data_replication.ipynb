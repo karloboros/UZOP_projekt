{
 "cells": [
  {
   "cell_type": "markdown",
   "id": "92c49857-11a0-4314-b718-e3a3fa91745e",
   "metadata": {
    "tags": []
   },
   "source": [
    "# Data replication\n",
    "- Intro to Data Science\n",
    "- Karlo Boroš - 0036531517\n",
    "- Dataset: \"Pima Indians diabetes mellitus classification based on machine learning (ML) algorithms\"\n",
    "\n",
    "### Replikacija podataka\n",
    "- Uvod u znanost o podacima\n",
    "- Karlo Boroš - 0036531517\n",
    "- Zadani skup podataka: \"Pima Indians diabetes mellitus classification based on machine learning (ML) algorithms\""
   ]
  },
