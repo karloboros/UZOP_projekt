{
 "cells": [
  {
   "cell_type": "markdown",
   "id": "92c49857-11a0-4314-b718-e3a3fa91745e",
   "metadata": {
    "tags": []
   },
   "source": [
    "# Data replication\n",
    "- Intro to Data Science\n",
    "- Karlo Boroš - 0036531517\n",
    "- Dataset: \"Pima Indians diabetes mellitus classification based on machine learning (ML) algorithms\"\n",
    "\n",
    "### Replikacija podataka\n",
    "- Uvod u znanost o podacima\n",
    "- Karlo Boroš - 0036531517\n",
    "- Zadani skup podataka: \"Pima Indians diabetes mellitus classification based on machine learning (ML) algorithms\""
   ]
  },
  {
   "cell_type": "markdown",
   "id": "a5c21003-51f2-40e2-88ff-1d66ba5836e1",
   "metadata": {},
   "source": [
    "### 0. Učitavanje potrebnih paketa"
   ]
  },
  {
   "cell_type": "code",
   "execution_count": 1,
   "id": "ff2982ee-6bae-4031-9a73-23cde58e4bdf",
   "metadata": {
    "tags": []
   },
   "outputs": [],
   "source": [
    "import numpy as np\n",
    "import pandas as pd\n",
    "import matplotlib.pyplot as plt\n",
    "import seaborn as sns"
   ]
  },
  {
   "cell_type": "markdown",
   "id": "4d72104d-0527-453e-93ff-9b56dbf4d74e",
   "metadata": {},
   "source": [
    "### 1. Priprema podataka"
   ]
  },
  {
   "cell_type": "markdown",
   "id": "06d0e05d-4fb9-4643-a15a-8703d4e3a9e3",
   "metadata": {},
   "source": [
    "#### a) Učitavanje skupa i njegove osnovne informacije"
   ]
  },
  {
   "cell_type": "code",
   "execution_count": 2,
   "id": "b3d1b20c-14db-4c6d-8382-e86a17ee10fd",
   "metadata": {},
   "outputs": [
    {
     "name": "stdout",
     "output_type": "stream",
     "text": [
      "<class 'pandas.core.frame.DataFrame'>\n",
      "RangeIndex: 768 entries, 0 to 767\n",
      "Data columns (total 9 columns):\n",
      " #   Column                    Non-Null Count  Dtype  \n",
      "---  ------                    --------------  -----  \n",
      " 0   Pregnancies               768 non-null    int64  \n",
      " 1   Glucose                   768 non-null    int64  \n",
      " 2   BloodPressure             768 non-null    int64  \n",
      " 3   SkinThickness             768 non-null    int64  \n",
      " 4   Insulin                   768 non-null    int64  \n",
      " 5   BMI                       768 non-null    float64\n",
      " 6   DiabetesPedigreeFunction  768 non-null    float64\n",
      " 7   Age                       768 non-null    int64  \n",
      " 8   Outcome                   768 non-null    int64  \n",
      "dtypes: float64(2), int64(7)\n",
      "memory usage: 54.1 KB\n"
     ]
    },
    {
     "data": {
      "text/html": [
       "<div>\n",
       "<style scoped>\n",
       "    .dataframe tbody tr th:only-of-type {\n",
       "        vertical-align: middle;\n",
       "    }\n",
       "\n",
       "    .dataframe tbody tr th {\n",
       "        vertical-align: top;\n",
       "    }\n",
       "\n",
       "    .dataframe thead th {\n",
       "        text-align: right;\n",
       "    }\n",
       "</style>\n",
       "<table border=\"1\" class=\"dataframe\">\n",
       "  <thead>\n",
       "    <tr style=\"text-align: right;\">\n",
       "      <th></th>\n",
       "      <th>Pregnancies</th>\n",
       "      <th>Glucose</th>\n",
       "      <th>BloodPressure</th>\n",
       "      <th>SkinThickness</th>\n",
       "      <th>Insulin</th>\n",
       "      <th>BMI</th>\n",
       "      <th>DiabetesPedigreeFunction</th>\n",
       "      <th>Age</th>\n",
       "      <th>Outcome</th>\n",
       "    </tr>\n",
       "  </thead>\n",
       "  <tbody>\n",
       "    <tr>\n",
       "      <th>count</th>\n",
       "      <td>768.000000</td>\n",
       "      <td>768.000000</td>\n",
       "      <td>768.000000</td>\n",
       "      <td>768.000000</td>\n",
       "      <td>768.000000</td>\n",
       "      <td>768.000000</td>\n",
       "      <td>768.000000</td>\n",
       "      <td>768.000000</td>\n",
       "      <td>768.000000</td>\n",
       "    </tr>\n",
       "    <tr>\n",
       "      <th>mean</th>\n",
       "      <td>3.845052</td>\n",
       "      <td>120.894531</td>\n",
       "      <td>69.105469</td>\n",
       "      <td>20.536458</td>\n",
       "      <td>79.799479</td>\n",
       "      <td>31.992578</td>\n",
       "      <td>0.471876</td>\n",
       "      <td>33.240885</td>\n",
       "      <td>0.348958</td>\n",
       "    </tr>\n",
       "    <tr>\n",
       "      <th>std</th>\n",
       "      <td>3.369578</td>\n",
       "      <td>31.972618</td>\n",
       "      <td>19.355807</td>\n",
       "      <td>15.952218</td>\n",
       "      <td>115.244002</td>\n",
       "      <td>7.884160</td>\n",
       "      <td>0.331329</td>\n",
       "      <td>11.760232</td>\n",
       "      <td>0.476951</td>\n",
       "    </tr>\n",
       "    <tr>\n",
       "      <th>min</th>\n",
       "      <td>0.000000</td>\n",
       "      <td>0.000000</td>\n",
       "      <td>0.000000</td>\n",
       "      <td>0.000000</td>\n",
       "      <td>0.000000</td>\n",
       "      <td>0.000000</td>\n",
       "      <td>0.078000</td>\n",
       "      <td>21.000000</td>\n",
       "      <td>0.000000</td>\n",
       "    </tr>\n",
       "    <tr>\n",
       "      <th>25%</th>\n",
       "      <td>1.000000</td>\n",
       "      <td>99.000000</td>\n",
       "      <td>62.000000</td>\n",
       "      <td>0.000000</td>\n",
       "      <td>0.000000</td>\n",
       "      <td>27.300000</td>\n",
       "      <td>0.243750</td>\n",
       "      <td>24.000000</td>\n",
       "      <td>0.000000</td>\n",
       "    </tr>\n",
       "    <tr>\n",
       "      <th>50%</th>\n",
       "      <td>3.000000</td>\n",
       "      <td>117.000000</td>\n",
       "      <td>72.000000</td>\n",
       "      <td>23.000000</td>\n",
       "      <td>30.500000</td>\n",
       "      <td>32.000000</td>\n",
       "      <td>0.372500</td>\n",
       "      <td>29.000000</td>\n",
       "      <td>0.000000</td>\n",
       "    </tr>\n",
       "    <tr>\n",
       "      <th>75%</th>\n",
       "      <td>6.000000</td>\n",
       "      <td>140.250000</td>\n",
       "      <td>80.000000</td>\n",
       "      <td>32.000000</td>\n",
       "      <td>127.250000</td>\n",
       "      <td>36.600000</td>\n",
       "      <td>0.626250</td>\n",
       "      <td>41.000000</td>\n",
       "      <td>1.000000</td>\n",
       "    </tr>\n",
       "    <tr>\n",
       "      <th>max</th>\n",
       "      <td>17.000000</td>\n",
       "      <td>199.000000</td>\n",
       "      <td>122.000000</td>\n",
       "      <td>99.000000</td>\n",
       "      <td>846.000000</td>\n",
       "      <td>67.100000</td>\n",
       "      <td>2.420000</td>\n",
       "      <td>81.000000</td>\n",
       "      <td>1.000000</td>\n",
       "    </tr>\n",
       "  </tbody>\n",
       "</table>\n",
       "</div>"
      ],
      "text/plain": [
       "       Pregnancies     Glucose  BloodPressure  SkinThickness     Insulin  \\\n",
       "count   768.000000  768.000000     768.000000     768.000000  768.000000   \n",
       "mean      3.845052  120.894531      69.105469      20.536458   79.799479   \n",
       "std       3.369578   31.972618      19.355807      15.952218  115.244002   \n",
       "min       0.000000    0.000000       0.000000       0.000000    0.000000   \n",
       "25%       1.000000   99.000000      62.000000       0.000000    0.000000   \n",
       "50%       3.000000  117.000000      72.000000      23.000000   30.500000   \n",
       "75%       6.000000  140.250000      80.000000      32.000000  127.250000   \n",
       "max      17.000000  199.000000     122.000000      99.000000  846.000000   \n",
       "\n",
       "              BMI  DiabetesPedigreeFunction         Age     Outcome  \n",
       "count  768.000000                768.000000  768.000000  768.000000  \n",
       "mean    31.992578                  0.471876   33.240885    0.348958  \n",
       "std      7.884160                  0.331329   11.760232    0.476951  \n",
       "min      0.000000                  0.078000   21.000000    0.000000  \n",
       "25%     27.300000                  0.243750   24.000000    0.000000  \n",
       "50%     32.000000                  0.372500   29.000000    0.000000  \n",
       "75%     36.600000                  0.626250   41.000000    1.000000  \n",
       "max     67.100000                  2.420000   81.000000    1.000000  "
      ]
     },
     "execution_count": 2,
     "metadata": {},
     "output_type": "execute_result"
    }
   ],
   "source": [
    "data = pd.read_csv(\"diabetes.csv\")\n",
    "data.shape\n",
    "data.info()\n",
    "data.head()\n",
    "data.describe()"
   ]
  },
  {
   "cell_type": "markdown",
   "id": "795fc0ec-28a0-4da6-80d7-645eade50e46",
   "metadata": {},
   "source": [
    "#### b) Prilagodba podataka za analizu\n",
    "U članku nije napravljeno puno promjena na podacima, već samo nekoliko. Zbog činjenice da skup nije jako velik nisu uklanjani retci, nego su se radile modifikacije određenih značajki.\n",
    "\n",
    "1. U datasetu nema nedostajućih podataka, no ima podataka koji su 0, a nikako to ne mogu biti, tako da su te vrijednosti zamijenjene medijanom. Ova modifikacija korištena je na značajkama: razina glukoze u krvi, krvni tlak, debljina kože, razina inzulina u krvi te BMI.\n",
    "\n",
    "- iako će to uzrokovati smanjenje varijance, nemodificiranje bi nam proizvelo više problema od ovoga te smo se zato za to odlučili \n",
    "\n",
    "2. Outlieri mogu uzrokovati probleme te je zato najbolje standardizirati značajke sa outlierima koji dosta odstupaju. To bi bile značajke: DPF, godine, razina inzulina u krvi, razina glukoze u krvi, BMI i krvni tlak.\n"
   ]
  },
  {
   "cell_type": "code",
   "execution_count": 3,
   "id": "9a455098-afa2-43d4-9787-35d38e9f62e8",
   "metadata": {
    "tags": []
   },
   "outputs": [
    {
     "data": {
      "text/html": [
       "<div>\n",
       "<style scoped>\n",
       "    .dataframe tbody tr th:only-of-type {\n",
       "        vertical-align: middle;\n",
       "    }\n",
       "\n",
       "    .dataframe tbody tr th {\n",
       "        vertical-align: top;\n",
       "    }\n",
       "\n",
       "    .dataframe thead th {\n",
       "        text-align: right;\n",
       "    }\n",
       "</style>\n",
       "<table border=\"1\" class=\"dataframe\">\n",
       "  <thead>\n",
       "    <tr style=\"text-align: right;\">\n",
       "      <th></th>\n",
       "      <th>Pregnancies</th>\n",
       "      <th>Glucose</th>\n",
       "      <th>BloodPressure</th>\n",
       "      <th>SkinThickness</th>\n",
       "      <th>Insulin</th>\n",
       "      <th>BMI</th>\n",
       "      <th>DiabetesPedigreeFunction</th>\n",
       "      <th>Age</th>\n",
       "      <th>Outcome</th>\n",
       "    </tr>\n",
       "  </thead>\n",
       "  <tbody>\n",
       "    <tr>\n",
       "      <th>count</th>\n",
       "      <td>768.000000</td>\n",
       "      <td>768.000000</td>\n",
       "      <td>768.000000</td>\n",
       "      <td>768.000000</td>\n",
       "      <td>768.000000</td>\n",
       "      <td>768.000000</td>\n",
       "      <td>768.000000</td>\n",
       "      <td>768.000000</td>\n",
       "      <td>768.000000</td>\n",
       "    </tr>\n",
       "    <tr>\n",
       "      <th>mean</th>\n",
       "      <td>3.845052</td>\n",
       "      <td>121.656250</td>\n",
       "      <td>72.386719</td>\n",
       "      <td>29.108073</td>\n",
       "      <td>140.671875</td>\n",
       "      <td>32.455208</td>\n",
       "      <td>0.471876</td>\n",
       "      <td>33.240885</td>\n",
       "      <td>0.348958</td>\n",
       "    </tr>\n",
       "    <tr>\n",
       "      <th>std</th>\n",
       "      <td>3.369578</td>\n",
       "      <td>30.438286</td>\n",
       "      <td>12.096642</td>\n",
       "      <td>8.791221</td>\n",
       "      <td>86.383060</td>\n",
       "      <td>6.875177</td>\n",
       "      <td>0.331329</td>\n",
       "      <td>11.760232</td>\n",
       "      <td>0.476951</td>\n",
       "    </tr>\n",
       "    <tr>\n",
       "      <th>min</th>\n",
       "      <td>0.000000</td>\n",
       "      <td>44.000000</td>\n",
       "      <td>24.000000</td>\n",
       "      <td>7.000000</td>\n",
       "      <td>14.000000</td>\n",
       "      <td>18.200000</td>\n",
       "      <td>0.078000</td>\n",
       "      <td>21.000000</td>\n",
       "      <td>0.000000</td>\n",
       "    </tr>\n",
       "    <tr>\n",
       "      <th>25%</th>\n",
       "      <td>1.000000</td>\n",
       "      <td>99.750000</td>\n",
       "      <td>64.000000</td>\n",
       "      <td>25.000000</td>\n",
       "      <td>121.500000</td>\n",
       "      <td>27.500000</td>\n",
       "      <td>0.243750</td>\n",
       "      <td>24.000000</td>\n",
       "      <td>0.000000</td>\n",
       "    </tr>\n",
       "    <tr>\n",
       "      <th>50%</th>\n",
       "      <td>3.000000</td>\n",
       "      <td>117.000000</td>\n",
       "      <td>72.000000</td>\n",
       "      <td>29.000000</td>\n",
       "      <td>125.000000</td>\n",
       "      <td>32.300000</td>\n",
       "      <td>0.372500</td>\n",
       "      <td>29.000000</td>\n",
       "      <td>0.000000</td>\n",
       "    </tr>\n",
       "    <tr>\n",
       "      <th>75%</th>\n",
       "      <td>6.000000</td>\n",
       "      <td>140.250000</td>\n",
       "      <td>80.000000</td>\n",
       "      <td>32.000000</td>\n",
       "      <td>127.250000</td>\n",
       "      <td>36.600000</td>\n",
       "      <td>0.626250</td>\n",
       "      <td>41.000000</td>\n",
       "      <td>1.000000</td>\n",
       "    </tr>\n",
       "    <tr>\n",
       "      <th>max</th>\n",
       "      <td>17.000000</td>\n",
       "      <td>199.000000</td>\n",
       "      <td>122.000000</td>\n",
       "      <td>99.000000</td>\n",
       "      <td>846.000000</td>\n",
       "      <td>67.100000</td>\n",
       "      <td>2.420000</td>\n",
       "      <td>81.000000</td>\n",
       "      <td>1.000000</td>\n",
       "    </tr>\n",
       "  </tbody>\n",
       "</table>\n",
       "</div>"
      ],
      "text/plain": [
       "       Pregnancies     Glucose  BloodPressure  SkinThickness     Insulin  \\\n",
       "count   768.000000  768.000000     768.000000     768.000000  768.000000   \n",
       "mean      3.845052  121.656250      72.386719      29.108073  140.671875   \n",
       "std       3.369578   30.438286      12.096642       8.791221   86.383060   \n",
       "min       0.000000   44.000000      24.000000       7.000000   14.000000   \n",
       "25%       1.000000   99.750000      64.000000      25.000000  121.500000   \n",
       "50%       3.000000  117.000000      72.000000      29.000000  125.000000   \n",
       "75%       6.000000  140.250000      80.000000      32.000000  127.250000   \n",
       "max      17.000000  199.000000     122.000000      99.000000  846.000000   \n",
       "\n",
       "              BMI  DiabetesPedigreeFunction         Age     Outcome  \n",
       "count  768.000000                768.000000  768.000000  768.000000  \n",
       "mean    32.455208                  0.471876   33.240885    0.348958  \n",
       "std      6.875177                  0.331329   11.760232    0.476951  \n",
       "min     18.200000                  0.078000   21.000000    0.000000  \n",
       "25%     27.500000                  0.243750   24.000000    0.000000  \n",
       "50%     32.300000                  0.372500   29.000000    0.000000  \n",
       "75%     36.600000                  0.626250   41.000000    1.000000  \n",
       "max     67.100000                  2.420000   81.000000    1.000000  "
      ]
     },
     "execution_count": 3,
     "metadata": {},
     "output_type": "execute_result"
    }
   ],
   "source": [
    "data_glucose = data[data.Glucose > 0]\n",
    "data_blood = data[data.BloodPressure > 0]\n",
    "data_skin = data[data.SkinThickness > 0]\n",
    "data_insulin = data[data.Insulin > 0]\n",
    "data_bmi = data[data.BMI > 0]\n",
    "\n",
    "data['Glucose'] = np.where(data['Glucose'] == 0, data_glucose['Glucose'].median(), data['Glucose'])\n",
    "data['BloodPressure'] = np.where(data['BloodPressure'] == 0, data_blood['BloodPressure'].median(), data['BloodPressure'])\n",
    "data['SkinThickness'] = np.where(data['SkinThickness'] == 0, data_skin['SkinThickness'].median(), data['SkinThickness'])\n",
    "data['Insulin'] = np.where(data['Insulin'] == 0, data_insulin['Insulin'].median(), data['Insulin'])\n",
    "data['BMI'] = np.where(data['BMI'] == 0, data_bmi['BMI'].median(), data['BMI'])\n",
    "\n",
    "data.describe()"
   ]
  },
  {
   "cell_type": "code",
   "execution_count": 4,
   "id": "afb0247f-e97c-41f4-9df3-558cf2ceabfb",
   "metadata": {
    "tags": []
   },
   "outputs": [
    {
     "data": {
      "text/html": [
       "<div>\n",
       "<style scoped>\n",
       "    .dataframe tbody tr th:only-of-type {\n",
       "        vertical-align: middle;\n",
       "    }\n",
       "\n",
       "    .dataframe tbody tr th {\n",
       "        vertical-align: top;\n",
       "    }\n",
       "\n",
       "    .dataframe thead th {\n",
       "        text-align: right;\n",
       "    }\n",
       "</style>\n",
       "<table border=\"1\" class=\"dataframe\">\n",
       "  <thead>\n",
       "    <tr style=\"text-align: right;\">\n",
       "      <th></th>\n",
       "      <th>Pregnancies</th>\n",
       "      <th>Glucose</th>\n",
       "      <th>BloodPressure</th>\n",
       "      <th>SkinThickness</th>\n",
       "      <th>Insulin</th>\n",
       "      <th>BMI</th>\n",
       "      <th>DiabetesPedigreeFunction</th>\n",
       "      <th>Age</th>\n",
       "      <th>Outcome</th>\n",
       "    </tr>\n",
       "  </thead>\n",
       "  <tbody>\n",
       "    <tr>\n",
       "      <th>count</th>\n",
       "      <td>768.000000</td>\n",
       "      <td>7.680000e+02</td>\n",
       "      <td>7.680000e+02</td>\n",
       "      <td>768.000000</td>\n",
       "      <td>7.680000e+02</td>\n",
       "      <td>7.680000e+02</td>\n",
       "      <td>7.680000e+02</td>\n",
       "      <td>7.680000e+02</td>\n",
       "      <td>768.000000</td>\n",
       "    </tr>\n",
       "    <tr>\n",
       "      <th>mean</th>\n",
       "      <td>3.845052</td>\n",
       "      <td>4.625929e-18</td>\n",
       "      <td>5.782412e-18</td>\n",
       "      <td>29.108073</td>\n",
       "      <td>1.503427e-17</td>\n",
       "      <td>2.613650e-16</td>\n",
       "      <td>2.451743e-16</td>\n",
       "      <td>1.931325e-16</td>\n",
       "      <td>0.348958</td>\n",
       "    </tr>\n",
       "    <tr>\n",
       "      <th>std</th>\n",
       "      <td>3.369578</td>\n",
       "      <td>1.000652e+00</td>\n",
       "      <td>1.000652e+00</td>\n",
       "      <td>8.791221</td>\n",
       "      <td>1.000652e+00</td>\n",
       "      <td>1.000652e+00</td>\n",
       "      <td>1.000652e+00</td>\n",
       "      <td>1.000652e+00</td>\n",
       "      <td>0.476951</td>\n",
       "    </tr>\n",
       "    <tr>\n",
       "      <th>min</th>\n",
       "      <td>0.000000</td>\n",
       "      <td>-2.552931e+00</td>\n",
       "      <td>-4.002619e+00</td>\n",
       "      <td>7.000000</td>\n",
       "      <td>-1.467353e+00</td>\n",
       "      <td>-2.074783e+00</td>\n",
       "      <td>-1.189553e+00</td>\n",
       "      <td>-1.041549e+00</td>\n",
       "      <td>0.000000</td>\n",
       "    </tr>\n",
       "    <tr>\n",
       "      <th>25%</th>\n",
       "      <td>1.000000</td>\n",
       "      <td>-7.201630e-01</td>\n",
       "      <td>-6.937615e-01</td>\n",
       "      <td>25.000000</td>\n",
       "      <td>-2.220849e-01</td>\n",
       "      <td>-7.212087e-01</td>\n",
       "      <td>-6.889685e-01</td>\n",
       "      <td>-7.862862e-01</td>\n",
       "      <td>0.000000</td>\n",
       "    </tr>\n",
       "    <tr>\n",
       "      <th>50%</th>\n",
       "      <td>3.000000</td>\n",
       "      <td>-1.530732e-01</td>\n",
       "      <td>-3.198993e-02</td>\n",
       "      <td>29.000000</td>\n",
       "      <td>-1.815412e-01</td>\n",
       "      <td>-2.258989e-02</td>\n",
       "      <td>-3.001282e-01</td>\n",
       "      <td>-3.608474e-01</td>\n",
       "      <td>0.000000</td>\n",
       "    </tr>\n",
       "    <tr>\n",
       "      <th>75%</th>\n",
       "      <td>6.000000</td>\n",
       "      <td>6.112653e-01</td>\n",
       "      <td>6.297816e-01</td>\n",
       "      <td>32.000000</td>\n",
       "      <td>-1.554775e-01</td>\n",
       "      <td>6.032562e-01</td>\n",
       "      <td>4.662269e-01</td>\n",
       "      <td>6.602056e-01</td>\n",
       "      <td>1.000000</td>\n",
       "    </tr>\n",
       "    <tr>\n",
       "      <th>max</th>\n",
       "      <td>17.000000</td>\n",
       "      <td>2.542658e+00</td>\n",
       "      <td>4.104082e+00</td>\n",
       "      <td>99.000000</td>\n",
       "      <td>8.170442e+00</td>\n",
       "      <td>5.042397e+00</td>\n",
       "      <td>5.883565e+00</td>\n",
       "      <td>4.063716e+00</td>\n",
       "      <td>1.000000</td>\n",
       "    </tr>\n",
       "  </tbody>\n",
       "</table>\n",
       "</div>"
      ],
      "text/plain": [
       "       Pregnancies       Glucose  BloodPressure  SkinThickness       Insulin  \\\n",
       "count   768.000000  7.680000e+02   7.680000e+02     768.000000  7.680000e+02   \n",
       "mean      3.845052  4.625929e-18   5.782412e-18      29.108073  1.503427e-17   \n",
       "std       3.369578  1.000652e+00   1.000652e+00       8.791221  1.000652e+00   \n",
       "min       0.000000 -2.552931e+00  -4.002619e+00       7.000000 -1.467353e+00   \n",
       "25%       1.000000 -7.201630e-01  -6.937615e-01      25.000000 -2.220849e-01   \n",
       "50%       3.000000 -1.530732e-01  -3.198993e-02      29.000000 -1.815412e-01   \n",
       "75%       6.000000  6.112653e-01   6.297816e-01      32.000000 -1.554775e-01   \n",
       "max      17.000000  2.542658e+00   4.104082e+00      99.000000  8.170442e+00   \n",
       "\n",
       "                BMI  DiabetesPedigreeFunction           Age     Outcome  \n",
       "count  7.680000e+02              7.680000e+02  7.680000e+02  768.000000  \n",
       "mean   2.613650e-16              2.451743e-16  1.931325e-16    0.348958  \n",
       "std    1.000652e+00              1.000652e+00  1.000652e+00    0.476951  \n",
       "min   -2.074783e+00             -1.189553e+00 -1.041549e+00    0.000000  \n",
       "25%   -7.212087e-01             -6.889685e-01 -7.862862e-01    0.000000  \n",
       "50%   -2.258989e-02             -3.001282e-01 -3.608474e-01    0.000000  \n",
       "75%    6.032562e-01              4.662269e-01  6.602056e-01    1.000000  \n",
       "max    5.042397e+00              5.883565e+00  4.063716e+00    1.000000  "
      ]
     },
     "execution_count": 4,
     "metadata": {},
     "output_type": "execute_result"
    }
   ],
   "source": [
    "from sklearn.preprocessing import MinMaxScaler\n",
    "from sklearn.preprocessing import StandardScaler\n",
    "\n",
    "standardizirane = ['Glucose','BloodPressure','Insulin','BMI', 'Age', 'DiabetesPedigreeFunction']\n",
    "\n",
    "#scaler = MinMaxScaler()\n",
    "scaler = StandardScaler()\n",
    "data[standardizirane] = scaler.fit_transform(data[standardizirane])\n",
    "\n",
    "data.describe()"
   ]
  },
  {
   "cell_type": "markdown",
   "id": "e1b68da8-43ed-4e63-97a3-4a23cf36ae8b",
   "metadata": {},
   "source": [
    "### 2. Strojno učenje korišteno u istraživanju"
   ]
  },
  {
   "cell_type": "markdown",
   "id": "a06686d0-2638-4775-840b-a0a3edc22fc3",
   "metadata": {},
   "source": [
    "#### a) Priprema skupova\n",
    "- u radu piše kako je korišten split 70:30 pa ću ga i ja koristiti\n",
    "- nažalost, ne mogu znati koji random_state su koristili tako da ne očekujem iste rezultate, no mislim kako bi mogli biti slični"
   ]
  },
  {
   "cell_type": "code",
   "execution_count": 5,
   "id": "e6c88511-5c4d-4322-b016-b6e8fa70fca4",
   "metadata": {
    "tags": []
   },
   "outputs": [],
   "source": [
    "from sklearn.model_selection import train_test_split\n",
    "from sklearn.tree import DecisionTreeClassifier\n",
    "from sklearn.ensemble import RandomForestClassifier\n",
    "from sklearn.naive_bayes import GaussianNB\n",
    "from sklearn.metrics import accuracy_score\n",
    "\n",
    "X = data.drop('Outcome', axis = 1)\n",
    "y = data['Outcome']\n",
    "\n",
    "X_train, X_test, y_train, y_test = train_test_split(X, y, test_size = 0.3, random_state = 42)"
   ]
  },
  {
   "cell_type": "markdown",
   "id": "05ca21b3-2a12-4f40-9004-31c22b6f662c",
   "metadata": {},
   "source": [
    "#### b) J48 stablo odluke"
   ]
  },
  {
   "cell_type": "code",
   "execution_count": 6,
   "id": "85a14fe6-b9cd-4cbb-ae76-850d2ccfd901",
   "metadata": {
    "tags": []
   },
   "outputs": [
    {
     "name": "stdout",
     "output_type": "stream",
     "text": [
      "0.7056277056277056\n"
     ]
    }
   ],
   "source": [
    "decision_tree = DecisionTreeClassifier().fit(X_train, y_train)\n",
    "predictions_dt = decision_tree.predict(X_test)\n",
    "\n",
    "print(accuracy_score(y_test, predictions_dt))\n"
   ]
  },
  {
   "cell_type": "markdown",
   "id": "04199342-e05f-4085-81ab-d344b101f8a4",
   "metadata": {},
   "source": [
    "#### c) Naivan Bayes"
   ]
  },
  {
   "cell_type": "code",
   "execution_count": 7,
   "id": "68f2b851-b069-43cb-a4f5-c5516a4c7139",
   "metadata": {
    "tags": []
   },
   "outputs": [
    {
     "name": "stdout",
     "output_type": "stream",
     "text": [
      "0.7402597402597403\n"
     ]
    }
   ],
   "source": [
    "naive_bayes = GaussianNB().fit(X_train, y_train)\n",
    "predictions_nb = naive_bayes.predict(X_test)\n",
    "\n",
    "print(accuracy_score(y_test, predictions_nb))\n"
   ]
  },
  {
   "cell_type": "markdown",
   "id": "aeb82bcb-3bd5-45ec-9b03-847a08d51d2a",
   "metadata": {},
   "source": [
    "#### d) Slučajne šume"
   ]
  },
  {
   "cell_type": "code",
   "execution_count": 8,
   "id": "fb239803-0a76-49d1-9d2f-1acff26fd88e",
   "metadata": {
    "tags": []
   },
   "outputs": [
    {
     "name": "stdout",
     "output_type": "stream",
     "text": [
      "0.7532467532467533\n"
     ]
    }
   ],
   "source": [
    "random_forest = RandomForestClassifier().fit(X_train, y_train)\n",
    "predictions_rf = random_forest.predict(X_test)\n",
    "\n",
    "print(accuracy_score(y_test, predictions_rf))\n"
   ]
  },
  {
   "cell_type": "markdown",
   "id": "083cfde2-921d-4c77-920c-f5f67eb4ffb9",
   "metadata": {},
   "source": [
    "#### e) Drugi krug učenja modela"
   ]
  },
  {
   "cell_type": "code",
   "execution_count": 9,
   "id": "5bca0943-e25d-45f0-90e9-0a7bf51526f5",
   "metadata": {
    "tags": []
   },
   "outputs": [
    {
     "name": "stdout",
     "output_type": "stream",
     "text": [
      "0.6536796536796536\n",
      "0.7272727272727273\n",
      "0.7402597402597403\n"
     ]
    }
   ],
   "source": [
    "features_round2 = ['Glucose','BMI','Age']\n",
    "\n",
    "X2 = data[features_round2]\n",
    "y = data['Outcome']\n",
    "\n",
    "X_train2, X_test2, y_train2, y_test2 = train_test_split(X2, y, test_size = 0.3, random_state = 42)\n",
    "\n",
    "decision_tree2 = DecisionTreeClassifier().fit(X_train2, y_train2)\n",
    "predictions_dt2 = decision_tree2.predict(X_test2)\n",
    "print(accuracy_score(y_test2, predictions_dt2))\n",
    "\n",
    "naive_bayes2 = GaussianNB().fit(X_train2, y_train2)\n",
    "predictions_nb2 = naive_bayes2.predict(X_test2)\n",
    "print(accuracy_score(y_test2, predictions_nb2))\n",
    "\n",
    "random_forest2 = RandomForestClassifier().fit(X_train2, y_train2)\n",
    "predictions_rf2 = random_forest2.predict(X_test2)\n",
    "print(accuracy_score(y_test2, predictions_rf2))\n"
   ]
  },
  {
   "cell_type": "markdown",
   "id": "81ba3caa-aaee-4360-99b0-37a43018eae9",
   "metadata": {},
   "source": [
    "#### f) Treći (finalni) krug učenja modela"
   ]
  },
  {
   "cell_type": "code",
   "execution_count": 10,
   "id": "09c23522-a505-4cff-b133-80de94e94f8e",
   "metadata": {
    "tags": []
   },
   "outputs": [
    {
     "name": "stdout",
     "output_type": "stream",
     "text": [
      "0.658008658008658\n",
      "0.7359307359307359\n",
      "0.7186147186147186\n"
     ]
    }
   ],
   "source": [
    "features_final = ['Glucose', 'BMI', 'Age', 'Insulin', 'SkinThickness']\n",
    "\n",
    "X3 = data[features_final]\n",
    "y = data['Outcome']\n",
    "\n",
    "X_train3, X_test3, y_train3, y_test3 = train_test_split(X3, y, test_size = 0.3, random_state = 42)\n",
    "\n",
    "decision_tree3 = DecisionTreeClassifier().fit(X_train3, y_train3)\n",
    "predictions_dt3 = decision_tree3.predict(X_test3)\n",
    "print(accuracy_score(y_test3, predictions_dt3))\n",
    "\n",
    "naive_bayes3 = GaussianNB().fit(X_train3, y_train3)\n",
    "predictions_nb3 = naive_bayes3.predict(X_test3)\n",
    "print(accuracy_score(y_test3, predictions_nb3))\n",
    "\n",
    "random_forest3 = RandomForestClassifier().fit(X_train3, y_train3)\n",
    "predictions_rf3 = random_forest3.predict(X_test3)\n",
    "print(accuracy_score(y_test3, predictions_rf3))\n"
   ]
  },
  {
   "cell_type": "markdown",
   "id": "7466bbce-4753-434a-a91f-11b231bf9cee",
   "metadata": {},
   "source": [
    "### 3. Dobiveni rezultati"
   ]
  },
  {
   "cell_type": "markdown",
   "id": "1d9830ca-2051-4f66-8557-9dad17ce119e",
   "metadata": {},
   "source": [
    "#### a) Izračun svih metrika"
   ]
  },
  {
   "cell_type": "code",
   "execution_count": 11,
   "id": "f3a9eda3-ee59-4016-a5ea-c2e34bb108f9",
   "metadata": {
    "tags": []
   },
   "outputs": [
    {
     "data": {
      "text/html": [
       "<div>\n",
       "<style scoped>\n",
       "    .dataframe tbody tr th:only-of-type {\n",
       "        vertical-align: middle;\n",
       "    }\n",
       "\n",
       "    .dataframe tbody tr th {\n",
       "        vertical-align: top;\n",
       "    }\n",
       "\n",
       "    .dataframe thead th {\n",
       "        text-align: right;\n",
       "    }\n",
       "</style>\n",
       "<table border=\"1\" class=\"dataframe\">\n",
       "  <thead>\n",
       "    <tr style=\"text-align: right;\">\n",
       "      <th></th>\n",
       "      <th>Algorithm</th>\n",
       "      <th>Accuracy</th>\n",
       "      <th>Precision</th>\n",
       "      <th>Sensitivity</th>\n",
       "      <th>Specificity</th>\n",
       "      <th>F1-score</th>\n",
       "      <th>AUC-ROC</th>\n",
       "    </tr>\n",
       "  </thead>\n",
       "  <tbody>\n",
       "    <tr>\n",
       "      <th>0</th>\n",
       "      <td>Decision tree - all features</td>\n",
       "      <td>0.705628</td>\n",
       "      <td>0.568182</td>\n",
       "      <td>0.6250</td>\n",
       "      <td>0.748344</td>\n",
       "      <td>0.595238</td>\n",
       "      <td>0.686672</td>\n",
       "    </tr>\n",
       "    <tr>\n",
       "      <th>1</th>\n",
       "      <td>Decision tree - 3 features</td>\n",
       "      <td>0.653680</td>\n",
       "      <td>0.500000</td>\n",
       "      <td>0.5375</td>\n",
       "      <td>0.715232</td>\n",
       "      <td>0.518072</td>\n",
       "      <td>0.626366</td>\n",
       "    </tr>\n",
       "    <tr>\n",
       "      <th>2</th>\n",
       "      <td>Decision tree - 5 features</td>\n",
       "      <td>0.658009</td>\n",
       "      <td>0.505747</td>\n",
       "      <td>0.5500</td>\n",
       "      <td>0.715232</td>\n",
       "      <td>0.526946</td>\n",
       "      <td>0.632616</td>\n",
       "    </tr>\n",
       "    <tr>\n",
       "      <th>3</th>\n",
       "      <td>Naive Bayes - all features</td>\n",
       "      <td>0.740260</td>\n",
       "      <td>0.619048</td>\n",
       "      <td>0.6500</td>\n",
       "      <td>0.788079</td>\n",
       "      <td>0.634146</td>\n",
       "      <td>0.719040</td>\n",
       "    </tr>\n",
       "    <tr>\n",
       "      <th>4</th>\n",
       "      <td>Naive Bayes - 3 features</td>\n",
       "      <td>0.727273</td>\n",
       "      <td>0.610390</td>\n",
       "      <td>0.5875</td>\n",
       "      <td>0.801325</td>\n",
       "      <td>0.598726</td>\n",
       "      <td>0.694412</td>\n",
       "    </tr>\n",
       "    <tr>\n",
       "      <th>5</th>\n",
       "      <td>Naive Bayes - 5 features</td>\n",
       "      <td>0.735931</td>\n",
       "      <td>0.626667</td>\n",
       "      <td>0.5875</td>\n",
       "      <td>0.814570</td>\n",
       "      <td>0.606452</td>\n",
       "      <td>0.701035</td>\n",
       "    </tr>\n",
       "    <tr>\n",
       "      <th>6</th>\n",
       "      <td>Random forest - all features</td>\n",
       "      <td>0.753247</td>\n",
       "      <td>0.645570</td>\n",
       "      <td>0.6375</td>\n",
       "      <td>0.814570</td>\n",
       "      <td>0.641509</td>\n",
       "      <td>0.726035</td>\n",
       "    </tr>\n",
       "    <tr>\n",
       "      <th>7</th>\n",
       "      <td>Random forest - 3 features</td>\n",
       "      <td>0.740260</td>\n",
       "      <td>0.625000</td>\n",
       "      <td>0.6250</td>\n",
       "      <td>0.801325</td>\n",
       "      <td>0.625000</td>\n",
       "      <td>0.713162</td>\n",
       "    </tr>\n",
       "    <tr>\n",
       "      <th>8</th>\n",
       "      <td>Random forest - 5 features</td>\n",
       "      <td>0.718615</td>\n",
       "      <td>0.586207</td>\n",
       "      <td>0.6375</td>\n",
       "      <td>0.761589</td>\n",
       "      <td>0.610778</td>\n",
       "      <td>0.699545</td>\n",
       "    </tr>\n",
       "  </tbody>\n",
       "</table>\n",
       "</div>"
      ],
      "text/plain": [
       "                      Algorithm  Accuracy  Precision  Sensitivity  \\\n",
       "0  Decision tree - all features  0.705628   0.568182       0.6250   \n",
       "1    Decision tree - 3 features  0.653680   0.500000       0.5375   \n",
       "2    Decision tree - 5 features  0.658009   0.505747       0.5500   \n",
       "3    Naive Bayes - all features  0.740260   0.619048       0.6500   \n",
       "4      Naive Bayes - 3 features  0.727273   0.610390       0.5875   \n",
       "5      Naive Bayes - 5 features  0.735931   0.626667       0.5875   \n",
       "6  Random forest - all features  0.753247   0.645570       0.6375   \n",
       "7    Random forest - 3 features  0.740260   0.625000       0.6250   \n",
       "8    Random forest - 5 features  0.718615   0.586207       0.6375   \n",
       "\n",
       "   Specificity  F1-score   AUC-ROC  \n",
       "0     0.748344  0.595238  0.686672  \n",
       "1     0.715232  0.518072  0.626366  \n",
       "2     0.715232  0.526946  0.632616  \n",
       "3     0.788079  0.634146  0.719040  \n",
       "4     0.801325  0.598726  0.694412  \n",
       "5     0.814570  0.606452  0.701035  \n",
       "6     0.814570  0.641509  0.726035  \n",
       "7     0.801325  0.625000  0.713162  \n",
       "8     0.761589  0.610778  0.699545  "
      ]
     },
     "metadata": {},
     "output_type": "display_data"
    }
   ],
   "source": [
    "from sklearn.metrics import confusion_matrix, accuracy_score, precision_score, recall_score, f1_score, roc_auc_score\n",
    "\n",
    "names = ['Decision tree - all features', 'Decision tree - 3 features', 'Decision tree - 5 features',\n",
    "         \"Naive Bayes - all features\", \"Naive Bayes - 3 features\", \"Naive Bayes - 5 features\",\n",
    "         'Random forest - all features',  'Random forest - 3 features',  'Random forest - 5 features']\n",
    "algorithms = [predictions_dt, predictions_dt2, predictions_dt3, predictions_nb, predictions_nb2, predictions_nb3, predictions_rf, predictions_rf2, predictions_rf3]\n",
    "\n",
    "results = pd.DataFrame(columns=['Algorithm', 'Accuracy', 'Precision', 'Sensitivity', 'Specificity', 'F1-score', 'AUC-ROC'])\n",
    "\n",
    "for name, predictions in zip(names, algorithms):\n",
    "\n",
    "    accuracy = accuracy_score(y_test, predictions)\n",
    "    precision = precision_score(y_test, predictions)\n",
    "    sensitivity = recall_score(y_test, predictions)\n",
    "    f1 = f1_score(y_test, predictions)\n",
    "    roc_auc = roc_auc_score(y_test, predictions)\n",
    "\n",
    "    conf_matrix = confusion_matrix(y_test, predictions)\n",
    "    TN = conf_matrix[0, 0]\n",
    "    FP = conf_matrix[0, 1]\n",
    "    specificity = TN / (TN + FP)\n",
    "\n",
    "    results = pd.concat([results, pd.DataFrame({\n",
    "        'Algorithm': [name],\n",
    "        'Accuracy': [accuracy],\n",
    "        'Precision': [precision],\n",
    "        'Sensitivity': [sensitivity],\n",
    "        'Specificity': [specificity],\n",
    "        'F1-score': [f1],\n",
    "        'AUC-ROC': [roc_auc]\n",
    "    })], ignore_index=True)\n",
    "\n",
    "display(results)"
   ]
  },
  {
   "cell_type": "markdown",
   "id": "a643ffdd-c4b5-4c1e-9be7-a6463fb1227c",
   "metadata": {},
   "source": [
    "#### b) Prikaz svih matrica zabune"
   ]
  },
  {
   "cell_type": "code",
   "execution_count": 12,
   "id": "1e7428f5-6fc6-4891-8f08-5e5af719cd42",
   "metadata": {},
   "outputs": [
    {
     "name": "stdout",
     "output_type": "stream",
     "text": [
      "Confusion matrices:\n",
      "\n",
      "Decision tree - all features:\n",
      "[[113  38]\n",
      " [ 30  50]]\n",
      "Decision tree - 3 features:\n",
      "[[108  43]\n",
      " [ 37  43]]\n",
      "Decision tree - 5 features:\n",
      "[[108  43]\n",
      " [ 36  44]]\n",
      "\n",
      "Naive Bayes - all features:\n",
      "[[119  32]\n",
      " [ 28  52]]\n",
      "Naive Bayes - 3 features:\n",
      "[[121  30]\n",
      " [ 33  47]]\n",
      "Naive Bayes - 5 features:\n",
      "[[123  28]\n",
      " [ 33  47]]\n",
      "\n",
      "Random forest - all features:\n",
      "[[123  28]\n",
      " [ 29  51]]\n",
      "Random forest - 3 features:\n",
      "[[121  30]\n",
      " [ 30  50]]\n",
      "Random forest - 5 features:\n",
      "[[115  36]\n",
      " [ 29  51]]\n",
      "\n"
     ]
    }
   ],
   "source": [
    "print(\"Confusion matrices:\\n\")\n",
    "br = 0\n",
    "for name, predictions in zip(names, algorithms):\n",
    "    br += 1\n",
    "    conf_matrix = confusion_matrix(y_test, predictions)\n",
    "    print(f\"{name}:\\n{conf_matrix}\")\n",
    "    if br % 3 == 0: print()\n",
    "    "
   ]
  },
  {
   "cell_type": "markdown",
   "id": "c4f57b08-73d2-4902-97c0-6f924641f6a7",
   "metadata": {},
   "source": [
    "#### c) Grafički prikaz odnosa metrika"
   ]
  },
  {
   "cell_type": "markdown",
   "id": "fefd5776-f138-4941-b423-4f95065fa441",
   "metadata": {},
   "source": [
    "##### c1) Accuracy"
   ]
  },
  {
   "cell_type": "code",
   "execution_count": 13,
   "id": "d48eafc4-2992-49ae-a448-bb4c4e594d23",
   "metadata": {
    "tags": []
   },
   "outputs": [
    {
     "data": {
      "image/png": "[encoded data removed]",
      "text/plain": [
       "<Figure size 1200x600 with 1 Axes>"
      ]
     },
     "metadata": {},
     "output_type": "display_data"
    }
   ],
   "source": [
    "feature_number = ['All features', '3 features', '5 features']\n",
    "ml_names = ['J48 decision tree', 'Naive Bayes', 'Random forest']\n",
    "\n",
    "colors = plt.cm.viridis(np.linspace(0, 1, len(feature_number)))\n",
    "fig, ax = plt.subplots(figsize=(12, 6))\n",
    "\n",
    "for i, name in enumerate(ml_names):\n",
    "    for j, features in enumerate(feature_number):\n",
    "        color = colors[j]\n",
    "        metric = accuracy_score(y_test, algorithms[i*3+j])\n",
    "        ax.bar(i * len(feature_number) + j, metric, color=color, label=features, width=0.8)\n",
    "\n",
    "ax.set_xticks(np.arange(len(ml_names)) * len(feature_number) + (len(feature_number) - 1) / 2)\n",
    "ax.set_xticklabels(ml_names)\n",
    "ax.set_title('Accuracy')\n",
    "ax.set_ylim(0, 1)\n",
    "ax.legend(feature_number)\n",
    "\n",
    "plt.show()\n"
   ]
  },
  {
   "cell_type": "markdown",
   "id": "e4b82711-4146-4e6f-a422-d9ad118eabf9",
   "metadata": {},
   "source": [
    "##### c2) Precision"
   ]
  },
  {
   "cell_type": "code",
   "execution_count": 14,
   "id": "2faffdf2-01ba-4104-a530-be3d80c4967e",
   "metadata": {
    "tags": []
   },
   "outputs": [
    {
     "data": {
      "image/png": "[encoded data removed]",
      "text/plain": [
       "<Figure size 1200x600 with 1 Axes>"
      ]
     },
     "metadata": {},
     "output_type": "display_data"
    }
   ],
   "source": [
    "feature_number = ['All features', '3 features', '5 features']\n",
    "ml_names = ['J48 decision tree', 'Naive Bayes', 'Random forest']\n",
    "\n",
    "colors = plt.cm.viridis(np.linspace(0, 1, len(feature_number)))\n",
    "fig, ax = plt.subplots(figsize=(12, 6))\n",
    "\n",
    "for i, name in enumerate(ml_names):\n",
    "    for j, features in enumerate(feature_number):\n",
    "        color = colors[j]\n",
    "        metric = precision_score(y_test, algorithms[i*3+j])\n",
    "        ax.bar(i * len(feature_number) + j, metric, color=color, label=features, width=0.8)\n",
    "\n",
    "ax.set_xticks(np.arange(len(ml_names)) * len(feature_number) + (len(feature_number) - 1) / 2)\n",
    "ax.set_xticklabels(ml_names)\n",
    "ax.set_title('Precision')\n",
    "ax.set_ylim(0, 1)\n",
    "ax.legend(feature_number)\n",
    "\n",
    "plt.show()\n"
   ]
  },
  {
   "cell_type": "markdown",
   "id": "199e51fb-ec66-476b-a9de-3db76a129e83",
   "metadata": {},
   "source": [
    "##### c3) Sensitivity"
   ]
  },
  {
   "cell_type": "code",
   "execution_count": 15,
   "id": "469e5995-2277-4b40-a4bc-ec6c3c2ea2b7",
   "metadata": {
    "tags": []
   },
   "outputs": [
    {
     "data": {
      "image/png": "[encoded data removed]",
      "text/plain": [
       "<Figure size 1200x600 with 1 Axes>"
      ]
     },
     "metadata": {},
     "output_type": "display_data"
    }
   ],
   "source": [
    "feature_number = ['All features', '3 features', '5 features']\n",
    "ml_names = ['J48 decision tree', 'Naive Bayes', 'Random forest']\n",
    "\n",
    "colors = plt.cm.viridis(np.linspace(0, 1, len(feature_number)))\n",
    "fig, ax = plt.subplots(figsize=(12, 6))\n",
    "\n",
    "for i, name in enumerate(ml_names):\n",
    "    for j, features in enumerate(feature_number):\n",
    "        color = colors[j]\n",
    "        metric = recall_score(y_test, algorithms[i*3+j])\n",
    "        ax.bar(i * len(feature_number) + j, metric, color=color, label=features, width=0.8)\n",
    "\n",
    "ax.set_xticks(np.arange(len(ml_names)) * len(feature_number) + (len(feature_number) - 1) / 2)\n",
    "ax.set_xticklabels(ml_names)\n",
    "ax.set_title('Sensitivity')\n",
    "ax.set_ylim(0, 1)\n",
    "ax.legend(feature_number)\n",
    "\n",
    "plt.show()\n"
   ]
  },
  {
   "cell_type": "markdown",
   "id": "9abe3fed-e4a4-41bc-af4b-222e0c527373",
   "metadata": {},
   "source": [
    "##### c4) Specifity"
   ]
  },
  {
   "cell_type": "code",
   "execution_count": 16,
   "id": "2cde37e7-c18b-4f2e-bde4-db65372cf8fc",
   "metadata": {
    "tags": []
   },
   "outputs": [
    {
     "data": {
      "image/png": "[encoded data removed]",
      "text/plain": [
       "<Figure size 1200x600 with 1 Axes>"
      ]
     },
     "metadata": {},
     "output_type": "display_data"
    }
   ],
   "source": [
    "feature_number = ['All features', '3 features', '5 features']\n",
    "ml_names = ['J48 decision tree', 'Naive Bayes', 'Random forest']\n",
    "\n",
    "colors = plt.cm.viridis(np.linspace(0, 1, len(feature_number)))\n",
    "fig, ax = plt.subplots(figsize=(12, 6))\n",
    "\n",
    "for i, name in enumerate(ml_names):\n",
    "    for j, features in enumerate(feature_number):\n",
    "        color = colors[j]\n",
    "        conf_matrix = confusion_matrix(y_test, predictions)\n",
    "        TN = conf_matrix[0, 0]\n",
    "        FP = conf_matrix[0, 1]\n",
    "        metric = TN / (TN + FP)\n",
    "        ax.bar(i * len(feature_number) + j, metric, color=color, label=features, width=0.8)\n",
    "\n",
    "ax.set_xticks(np.arange(len(ml_names)) * len(feature_number) + (len(feature_number) - 1) / 2)\n",
    "ax.set_xticklabels(ml_names)\n",
    "ax.set_title('Specifity')\n",
    "ax.set_ylim(0, 1)\n",
    "ax.legend(feature_number)\n",
    "\n",
    "plt.show()\n"
   ]
  },
  {
   "cell_type": "markdown",
   "id": "40649b7d-eb79-4189-bbd1-583bc275f97e",
   "metadata": {},
   "source": [
    "##### c5) F-score"
   ]
  },
  {
   "cell_type": "code",
   "execution_count": 17,
   "id": "263872c7-4363-462a-8ee0-0d89536619d1",
   "metadata": {
    "tags": []
   },
   "outputs": [
    {
     "data": {
      "image/png": "[encoded data removed]",
      "text/plain": [
       "<Figure size 1200x600 with 1 Axes>"
      ]
     },
     "metadata": {},
     "output_type": "display_data"
    }
   ],
   "source": [
    "feature_number = ['All features', '3 features', '5 features']\n",
    "ml_names = ['J48 decision tree', 'Naive Bayes', 'Random forest']\n",
    "\n",
    "colors = plt.cm.viridis(np.linspace(0, 1, len(feature_number)))\n",
    "fig, ax = plt.subplots(figsize=(12, 6))\n",
    "\n",
    "for i, name in enumerate(ml_names):\n",
    "    for j, features in enumerate(feature_number):\n",
    "        color = colors[j]\n",
    "        metric = f1_score(y_test, algorithms[i*3+j])\n",
    "        ax.bar(i * len(feature_number) + j, metric, color=color, label=features, width=0.8)\n",
    "\n",
    "ax.set_xticks(np.arange(len(ml_names)) * len(feature_number) + (len(feature_number) - 1) / 2)\n",
    "ax.set_xticklabels(ml_names)\n",
    "ax.set_title('F-score')\n",
    "ax.set_ylim(0, 1)\n",
    "ax.legend(feature_number)\n",
    "\n",
    "plt.show()\n"
   ]
  },
  {
   "cell_type": "markdown",
   "id": "f79b87bc-2a4b-4193-90d4-5d157d8a65a1",
   "metadata": {},
   "source": [
    "##### c6) AUC-ROC curves"
   ]
  },
  {
   "cell_type": "code",
   "execution_count": 18,
   "id": "c8d2dbef-55e7-44f4-8081-313988aca955",
   "metadata": {
    "tags": []
   },
   "outputs": [
    {
     "data": {
      "image/png": "[encoded data removed]",
      "text/plain": [
       "<Figure size 1200x600 with 1 Axes>"
      ]
     },
     "metadata": {},
     "output_type": "display_data"
    }
   ],
   "source": [
    "feature_number = ['All features', '3 features', '5 features']\n",
    "ml_names = ['J48 decision tree', 'Naive Bayes', 'Random forest']\n",
    "\n",
    "colors = plt.cm.viridis(np.linspace(0, 1, len(feature_number)))\n",
    "fig, ax = plt.subplots(figsize=(12, 6))\n",
    "\n",
    "for i, name in enumerate(ml_names):\n",
    "    for j, features in enumerate(feature_number):\n",
    "        color = colors[j]\n",
    "        metric = roc_auc_score(y_test, algorithms[i*3+j])\n",
    "        ax.bar(i * len(feature_number) + j, metric, color=color, label=features, width=0.8)\n",
    "\n",
    "ax.set_xticks(np.arange(len(ml_names)) * len(feature_number) + (len(feature_number) - 1) / 2)\n",
    "ax.set_xticklabels(ml_names)\n",
    "ax.set_title('AUC-ROC')\n",
    "ax.set_ylim(0, 1)\n",
    "ax.legend(feature_number)\n",
    "\n",
    "plt.show()\n"
   ]
  },
  {
   "cell_type": "markdown",
   "id": "f02b8f0d-a9b6-4684-a190-13ecb53847b7",
   "metadata": {},
   "source": [
    "#### d) Cross validation"
   ]
  },
  {
   "cell_type": "code",
   "execution_count": 21,
   "id": "04c7a9e6-8f3f-4dd2-a371-66c397c75b07",
   "metadata": {
    "tags": []
   },
   "outputs": [
    {
     "name": "stdout",
     "output_type": "stream",
     "text": [
      "Decision tree - all features:\t[0.68831169 0.63636364 0.65584416 0.74509804 0.73856209];\t\tprosjek: 0.6928\n",
      "Decision tree - 3 features:\t[0.66883117 0.64935065 0.66883117 0.75163399 0.75163399];\t\tprosjek: 0.6981\n",
      "Decision tree - 5 features:\t[0.70779221 0.64285714 0.65584416 0.74509804 0.74509804];\t\tprosjek: 0.6993\n",
      "Naive Bayes - all features:\t[0.74025974 0.73376623 0.74025974 0.79738562 0.73856209];\t\tprosjek: 0.75\n",
      "Naive Bayes - 3 features:\t[0.74025974 0.73376623 0.74025974 0.79738562 0.73856209];\t\tprosjek: 0.75\n",
      "Naive Bayes - 5 features:\t[0.74025974 0.73376623 0.74025974 0.79738562 0.73856209];\t\tprosjek: 0.75\n",
      "Random forest - all features:\t[0.76623377 0.73376623 0.74675325 0.82352941 0.71895425];\t\tprosjek: 0.7578\n",
      "Random forest - 3 features:\t[0.73376623 0.75324675 0.75974026 0.84313725 0.75816993];\t\tprosjek: 0.7696\n",
      "Random forest - 5 features:\t[0.75324675 0.71428571 0.74675325 0.82352941 0.73202614];\t\tprosjek: 0.754\n"
     ]
    }
   ],
   "source": [
    "from sklearn.model_selection import cross_val_score\n",
    "\n",
    "algorithms = [decision_tree, decision_tree2, decision_tree3, naive_bayes, naive_bayes2, naive_bayes3, random_forest, random_forest2, random_forest3]\n",
    "\n",
    "for name, algorithm in zip(names, algorithms):\n",
    "    scores = cross_val_score(algorithm, X, y, cv=5)\n",
    "    print(f\"{name}:\\t{scores};\\t\\tprosjek: {round(np.mean(scores),4)}\")\n"
   ]
  },
  {
   "cell_type": "code",
   "execution_count": null,
   "id": "94cb89b1-f711-4461-b7a8-afb923d7527f",
   "metadata": {},
   "outputs": [],
   "source": []
  }
 ],
 "metadata": {
  "kernelspec": {
   "display_name": "Python 3 (ipykernel)",
   "language": "python",
   "name": "python3"
  },
  "language_info": {
   "codemirror_mode": {
    "name": "ipython",
    "version": 3
   },
   "file_extension": ".py",
   "mimetype": "text/x-python",
   "name": "python",
   "nbconvert_exporter": "python",
   "pygments_lexer": "ipython3",
   "version": "3.11.5"
  }
 },
 "nbformat": 4,
 "nbformat_minor": 5
}
