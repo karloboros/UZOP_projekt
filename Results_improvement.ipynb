{
 "cells": [
  {
   "cell_type": "markdown",
   "id": "5c83d6a9",
   "metadata": {},
   "source": [
    "# Poboljšanje rezultata članka"
   ]
  },
  {
   "cell_type": "code",
   "execution_count": 120,
   "id": "67b900ed",
   "metadata": {},
   "outputs": [],
   "source": [
    "import pandas as pd\n",
    "import numpy as np\n",
    "import matplotlib.pyplot as plt\n",
    "import seaborn as sns\n",
    "from sklearn.metrics import confusion_matrix, ConfusionMatrixDisplay\n",
    "import warnings\n",
    "warnings.filterwarnings('ignore')"
   ]
  },
  {
   "cell_type": "markdown",
   "id": "b95494fd",
   "metadata": {},
   "source": [
    "## Priprema podataka"
   ]
  },
  {
   "cell_type": "code",
   "execution_count": 2,
   "id": "6e2ab2c5",
   "metadata": {},
   "outputs": [],
   "source": [
    "X = pd.read_csv(\"diabetes.csv\")"
   ]
  },
  {
   "cell_type": "code",
   "execution_count": 3,
   "id": "c660305d",
   "metadata": {},
   "outputs": [
    {
     "data": {
      "text/html": [
       "<div>\n",
       "<style scoped>\n",
       "    .dataframe tbody tr th:only-of-type {\n",
       "        vertical-align: middle;\n",
       "    }\n",
       "\n",
       "    .dataframe tbody tr th {\n",
       "        vertical-align: top;\n",
       "    }\n",
       "\n",
       "    .dataframe thead th {\n",
       "        text-align: right;\n",
       "    }\n",
       "</style>\n",
       "<table border=\"1\" class=\"dataframe\">\n",
       "  <thead>\n",
       "    <tr style=\"text-align: right;\">\n",
       "      <th></th>\n",
       "      <th>Pregnancies</th>\n",
       "      <th>Glucose</th>\n",
       "      <th>BloodPressure</th>\n",
       "      <th>SkinThickness</th>\n",
       "      <th>Insulin</th>\n",
       "      <th>BMI</th>\n",
       "      <th>DiabetesPedigreeFunction</th>\n",
       "      <th>Age</th>\n",
       "      <th>Outcome</th>\n",
       "    </tr>\n",
       "  </thead>\n",
       "  <tbody>\n",
       "    <tr>\n",
       "      <th>count</th>\n",
       "      <td>768.000000</td>\n",
       "      <td>768.000000</td>\n",
       "      <td>768.000000</td>\n",
       "      <td>768.000000</td>\n",
       "      <td>768.000000</td>\n",
       "      <td>768.000000</td>\n",
       "      <td>768.000000</td>\n",
       "      <td>768.000000</td>\n",
       "      <td>768.000000</td>\n",
       "    </tr>\n",
       "    <tr>\n",
       "      <th>mean</th>\n",
       "      <td>3.845052</td>\n",
       "      <td>120.894531</td>\n",
       "      <td>69.105469</td>\n",
       "      <td>20.536458</td>\n",
       "      <td>79.799479</td>\n",
       "      <td>31.992578</td>\n",
       "      <td>0.471876</td>\n",
       "      <td>33.240885</td>\n",
       "      <td>0.348958</td>\n",
       "    </tr>\n",
       "    <tr>\n",
       "      <th>std</th>\n",
       "      <td>3.369578</td>\n",
       "      <td>31.972618</td>\n",
       "      <td>19.355807</td>\n",
       "      <td>15.952218</td>\n",
       "      <td>115.244002</td>\n",
       "      <td>7.884160</td>\n",
       "      <td>0.331329</td>\n",
       "      <td>11.760232</td>\n",
       "      <td>0.476951</td>\n",
       "    </tr>\n",
       "    <tr>\n",
       "      <th>min</th>\n",
       "      <td>0.000000</td>\n",
       "      <td>0.000000</td>\n",
       "      <td>0.000000</td>\n",
       "      <td>0.000000</td>\n",
       "      <td>0.000000</td>\n",
       "      <td>0.000000</td>\n",
       "      <td>0.078000</td>\n",
       "      <td>21.000000</td>\n",
       "      <td>0.000000</td>\n",
       "    </tr>\n",
       "    <tr>\n",
       "      <th>25%</th>\n",
       "      <td>1.000000</td>\n",
       "      <td>99.000000</td>\n",
       "      <td>62.000000</td>\n",
       "      <td>0.000000</td>\n",
       "      <td>0.000000</td>\n",
       "      <td>27.300000</td>\n",
       "      <td>0.243750</td>\n",
       "      <td>24.000000</td>\n",
       "      <td>0.000000</td>\n",
       "    </tr>\n",
       "    <tr>\n",
       "      <th>50%</th>\n",
       "      <td>3.000000</td>\n",
       "      <td>117.000000</td>\n",
       "      <td>72.000000</td>\n",
       "      <td>23.000000</td>\n",
       "      <td>30.500000</td>\n",
       "      <td>32.000000</td>\n",
       "      <td>0.372500</td>\n",
       "      <td>29.000000</td>\n",
       "      <td>0.000000</td>\n",
       "    </tr>\n",
       "    <tr>\n",
       "      <th>75%</th>\n",
       "      <td>6.000000</td>\n",
       "      <td>140.250000</td>\n",
       "      <td>80.000000</td>\n",
       "      <td>32.000000</td>\n",
       "      <td>127.250000</td>\n",
       "      <td>36.600000</td>\n",
       "      <td>0.626250</td>\n",
       "      <td>41.000000</td>\n",
       "      <td>1.000000</td>\n",
       "    </tr>\n",
       "    <tr>\n",
       "      <th>max</th>\n",
       "      <td>17.000000</td>\n",
       "      <td>199.000000</td>\n",
       "      <td>122.000000</td>\n",
       "      <td>99.000000</td>\n",
       "      <td>846.000000</td>\n",
       "      <td>67.100000</td>\n",
       "      <td>2.420000</td>\n",
       "      <td>81.000000</td>\n",
       "      <td>1.000000</td>\n",
       "    </tr>\n",
       "  </tbody>\n",
       "</table>\n",
       "</div>"
      ],
      "text/plain": [
       "       Pregnancies     Glucose  BloodPressure  SkinThickness     Insulin  \\\n",
       "count   768.000000  768.000000     768.000000     768.000000  768.000000   \n",
       "mean      3.845052  120.894531      69.105469      20.536458   79.799479   \n",
       "std       3.369578   31.972618      19.355807      15.952218  115.244002   \n",
       "min       0.000000    0.000000       0.000000       0.000000    0.000000   \n",
       "25%       1.000000   99.000000      62.000000       0.000000    0.000000   \n",
       "50%       3.000000  117.000000      72.000000      23.000000   30.500000   \n",
       "75%       6.000000  140.250000      80.000000      32.000000  127.250000   \n",
       "max      17.000000  199.000000     122.000000      99.000000  846.000000   \n",
       "\n",
       "              BMI  DiabetesPedigreeFunction         Age     Outcome  \n",
       "count  768.000000                768.000000  768.000000  768.000000  \n",
       "mean    31.992578                  0.471876   33.240885    0.348958  \n",
       "std      7.884160                  0.331329   11.760232    0.476951  \n",
       "min      0.000000                  0.078000   21.000000    0.000000  \n",
       "25%     27.300000                  0.243750   24.000000    0.000000  \n",
       "50%     32.000000                  0.372500   29.000000    0.000000  \n",
       "75%     36.600000                  0.626250   41.000000    1.000000  \n",
       "max     67.100000                  2.420000   81.000000    1.000000  "
      ]
     },
     "execution_count": 3,
     "metadata": {},
     "output_type": "execute_result"
    }
   ],
   "source": [
    "X.describe()"
   ]
  },
  {
   "cell_type": "markdown",
   "id": "d04466c3",
   "metadata": {},
   "source": [
    "Umjesto, kao u članku, da vrijednosti postavljene na nule koje nemaju smisla, zamijenimo medijanima, provest ćemo KNN i tako zamijeniti te vrijednosti s prosječnom vrijednosti K najbližih susjeda na temelju dostupnih podataka.."
   ]
  },
  {
   "cell_type": "code",
   "execution_count": 4,
   "id": "d0eebfcb",
   "metadata": {},
   "outputs": [
    {
     "data": {
      "text/html": [
       "<div>\n",
       "<style scoped>\n",
       "    .dataframe tbody tr th:only-of-type {\n",
       "        vertical-align: middle;\n",
       "    }\n",
       "\n",
       "    .dataframe tbody tr th {\n",
       "        vertical-align: top;\n",
       "    }\n",
       "\n",
       "    .dataframe thead th {\n",
       "        text-align: right;\n",
       "    }\n",
       "</style>\n",
       "<table border=\"1\" class=\"dataframe\">\n",
       "  <thead>\n",
       "    <tr style=\"text-align: right;\">\n",
       "      <th></th>\n",
       "      <th>Pregnancies</th>\n",
       "      <th>Glucose</th>\n",
       "      <th>BloodPressure</th>\n",
       "      <th>SkinThickness</th>\n",
       "      <th>Insulin</th>\n",
       "      <th>BMI</th>\n",
       "      <th>DiabetesPedigreeFunction</th>\n",
       "      <th>Age</th>\n",
       "      <th>Outcome</th>\n",
       "    </tr>\n",
       "  </thead>\n",
       "  <tbody>\n",
       "    <tr>\n",
       "      <th>count</th>\n",
       "      <td>768.000000</td>\n",
       "      <td>768.000000</td>\n",
       "      <td>768.000000</td>\n",
       "      <td>768.000000</td>\n",
       "      <td>768.000000</td>\n",
       "      <td>768.000000</td>\n",
       "      <td>768.000000</td>\n",
       "      <td>768.000000</td>\n",
       "      <td>768.000000</td>\n",
       "    </tr>\n",
       "    <tr>\n",
       "      <th>mean</th>\n",
       "      <td>3.845052</td>\n",
       "      <td>121.601562</td>\n",
       "      <td>72.325781</td>\n",
       "      <td>29.096615</td>\n",
       "      <td>152.724479</td>\n",
       "      <td>32.434479</td>\n",
       "      <td>0.471876</td>\n",
       "      <td>33.240885</td>\n",
       "      <td>0.348958</td>\n",
       "    </tr>\n",
       "    <tr>\n",
       "      <th>std</th>\n",
       "      <td>3.369578</td>\n",
       "      <td>30.494403</td>\n",
       "      <td>12.193908</td>\n",
       "      <td>9.424697</td>\n",
       "      <td>98.502206</td>\n",
       "      <td>6.883819</td>\n",
       "      <td>0.331329</td>\n",
       "      <td>11.760232</td>\n",
       "      <td>0.476951</td>\n",
       "    </tr>\n",
       "    <tr>\n",
       "      <th>min</th>\n",
       "      <td>0.000000</td>\n",
       "      <td>44.000000</td>\n",
       "      <td>24.000000</td>\n",
       "      <td>7.000000</td>\n",
       "      <td>14.000000</td>\n",
       "      <td>18.200000</td>\n",
       "      <td>0.078000</td>\n",
       "      <td>21.000000</td>\n",
       "      <td>0.000000</td>\n",
       "    </tr>\n",
       "    <tr>\n",
       "      <th>25%</th>\n",
       "      <td>1.000000</td>\n",
       "      <td>99.000000</td>\n",
       "      <td>64.000000</td>\n",
       "      <td>23.000000</td>\n",
       "      <td>87.450000</td>\n",
       "      <td>27.500000</td>\n",
       "      <td>0.243750</td>\n",
       "      <td>24.000000</td>\n",
       "      <td>0.000000</td>\n",
       "    </tr>\n",
       "    <tr>\n",
       "      <th>50%</th>\n",
       "      <td>3.000000</td>\n",
       "      <td>117.000000</td>\n",
       "      <td>72.000000</td>\n",
       "      <td>29.000000</td>\n",
       "      <td>131.600000</td>\n",
       "      <td>32.190000</td>\n",
       "      <td>0.372500</td>\n",
       "      <td>29.000000</td>\n",
       "      <td>0.000000</td>\n",
       "    </tr>\n",
       "    <tr>\n",
       "      <th>75%</th>\n",
       "      <td>6.000000</td>\n",
       "      <td>140.250000</td>\n",
       "      <td>80.000000</td>\n",
       "      <td>35.000000</td>\n",
       "      <td>191.050000</td>\n",
       "      <td>36.600000</td>\n",
       "      <td>0.626250</td>\n",
       "      <td>41.000000</td>\n",
       "      <td>1.000000</td>\n",
       "    </tr>\n",
       "    <tr>\n",
       "      <th>max</th>\n",
       "      <td>17.000000</td>\n",
       "      <td>199.000000</td>\n",
       "      <td>122.000000</td>\n",
       "      <td>99.000000</td>\n",
       "      <td>846.000000</td>\n",
       "      <td>67.100000</td>\n",
       "      <td>2.420000</td>\n",
       "      <td>81.000000</td>\n",
       "      <td>1.000000</td>\n",
       "    </tr>\n",
       "  </tbody>\n",
       "</table>\n",
       "</div>"
      ],
      "text/plain": [
       "       Pregnancies     Glucose  BloodPressure  SkinThickness     Insulin  \\\n",
       "count   768.000000  768.000000     768.000000     768.000000  768.000000   \n",
       "mean      3.845052  121.601562      72.325781      29.096615  152.724479   \n",
       "std       3.369578   30.494403      12.193908       9.424697   98.502206   \n",
       "min       0.000000   44.000000      24.000000       7.000000   14.000000   \n",
       "25%       1.000000   99.000000      64.000000      23.000000   87.450000   \n",
       "50%       3.000000  117.000000      72.000000      29.000000  131.600000   \n",
       "75%       6.000000  140.250000      80.000000      35.000000  191.050000   \n",
       "max      17.000000  199.000000     122.000000      99.000000  846.000000   \n",
       "\n",
       "              BMI  DiabetesPedigreeFunction         Age     Outcome  \n",
       "count  768.000000                768.000000  768.000000  768.000000  \n",
       "mean    32.434479                  0.471876   33.240885    0.348958  \n",
       "std      6.883819                  0.331329   11.760232    0.476951  \n",
       "min     18.200000                  0.078000   21.000000    0.000000  \n",
       "25%     27.500000                  0.243750   24.000000    0.000000  \n",
       "50%     32.190000                  0.372500   29.000000    0.000000  \n",
       "75%     36.600000                  0.626250   41.000000    1.000000  \n",
       "max     67.100000                  2.420000   81.000000    1.000000  "
      ]
     },
     "execution_count": 4,
     "metadata": {},
     "output_type": "execute_result"
    }
   ],
   "source": [
    "from sklearn.impute import KNNImputer\n",
    "\n",
    "columns_to_knn = ['Glucose', 'BloodPressure', 'SkinThickness',\n",
    "                           'Insulin', 'BMI', 'DiabetesPedigreeFunction', 'Age']\n",
    "\n",
    "# Zamjena nula s NaN vrijednostima samo za odabrane stupce\n",
    "X[columns_to_knn] = X[columns_to_knn].replace(0, np.nan)\n",
    "\n",
    "imputer = KNNImputer(n_neighbors=5)\n",
    "X[columns_to_knn] = imputer.fit_transform(X[columns_to_knn])\n",
    "X.describe()"
   ]
  },
  {
   "cell_type": "code",
   "execution_count": 7,
   "id": "6e23e175",
   "metadata": {},
   "outputs": [],
   "source": [
    "#Odvajanje značajki i ciljne varijable\n",
    "X_z = X.drop('Outcome', axis=1)\n",
    "y = X['Outcome']"
   ]
  },
  {
   "cell_type": "markdown",
   "id": "7dfc9a93",
   "metadata": {},
   "source": [
    "S obzirom na to da imamo neuravnoteženost klasa, želimo ih balansirati."
   ]
  },
  {
   "cell_type": "code",
   "execution_count": 8,
   "id": "86fcc880",
   "metadata": {},
   "outputs": [],
   "source": [
    "from imblearn.over_sampling import RandomOverSampler\n",
    "over = RandomOverSampler()\n",
    "X_r, y_r = over.fit_resample(X_z, y)"
   ]
  },
  {
   "cell_type": "code",
   "execution_count": 9,
   "id": "2a1103b0",
   "metadata": {},
   "outputs": [
    {
     "name": "stdout",
     "output_type": "stream",
     "text": [
      "Outcome\n",
      "1    500\n",
      "0    500\n",
      "Name: count, dtype: int64\n"
     ]
    }
   ],
   "source": [
    "print(y_r.value_counts())"
   ]
  },
  {
   "cell_type": "markdown",
   "id": "cf6ec079",
   "metadata": {},
   "source": [
    "Podijelit ćemo skup podataka 70/30 na skup za učenje i ispitni skup prije početka treniranja modela te normalizirati."
   ]
  },
  {
   "cell_type": "code",
   "execution_count": 17,
   "id": "290a7cc0",
   "metadata": {},
   "outputs": [],
   "source": [
    "from sklearn import model_selection\n",
    "from sklearn.metrics import accuracy_score, classification_report, confusion_matrix\n",
    "from sklearn.preprocessing import StandardScaler\n",
    "\n",
    "X_train,X_test,y_train,y_test = model_selection.train_test_split(X_r,y_r,train_size = 0.7)\n",
    "#normalizacija\n",
    "scaler = StandardScaler()\n",
    "X_train_scaled = scaler.fit_transform(X_train)\n",
    "X_test_scaled = scaler.transform(X_test)"
   ]
  },
  {
   "cell_type": "markdown",
   "id": "e186bbdc",
   "metadata": {},
   "source": [
    "## Modeli korišteni u članku"
   ]
  },
  {
   "cell_type": "markdown",
   "id": "3dc80c90",
   "metadata": {},
   "source": [
    "Zanima nas kakav je utjecaj ovakvih podataka na modele korištene u članku."
   ]
  },
  {
   "cell_type": "markdown",
   "id": "135de9e4",
   "metadata": {},
   "source": [
    "### Decision Tree"
   ]
  },
  {
   "cell_type": "code",
   "execution_count": 89,
   "id": "0bb1fa6f",
   "metadata": {},
   "outputs": [
    {
     "name": "stdout",
     "output_type": "stream",
     "text": [
      "Accuracy: 0.81\n"
     ]
    },
    {
     "data": {
      "text/plain": [
       "<sklearn.metrics._plot.confusion_matrix.ConfusionMatrixDisplay at 0x253a6b7e770>"
      ]
     },
     "execution_count": 89,
     "metadata": {},
     "output_type": "execute_result"
    },
    {
     "data": {
      "image/png": "[encoded data removed]",
      "text/plain": [
       "<Figure size 432x288 with 2 Axes>"
      ]
     },
     "metadata": {
      "needs_background": "light"
     },
     "output_type": "display_data"
    }
   ],
   "source": [
    "from sklearn.tree import DecisionTreeClassifier\n",
    "dt = DecisionTreeClassifier(criterion='entropy')\n",
    "dt.fit(X_train_scaled, y_train)\n",
    "predictions = dt.predict(X_test_scaled)\n",
    "accuracy = accuracy_score(y_test, predictions)\n",
    "print(f'Accuracy: {accuracy:.2f}')\n",
    "cm = confusion_matrix(y_test, predictions, labels=dt.classes_)\n",
    "disp = ConfusionMatrixDisplay(confusion_matrix = cm, display_labels=dt.classes_)\n",
    "disp.plot()"
   ]
  },
  {
   "cell_type": "markdown",
   "id": "0c38368f",
   "metadata": {},
   "source": [
    "### Random Forest"
   ]
  },
  {
   "cell_type": "code",
   "execution_count": 110,
   "id": "db013c50",
   "metadata": {},
   "outputs": [
    {
     "name": "stdout",
     "output_type": "stream",
     "text": [
      "Accuracy: 0.85\n"
     ]
    },
    {
     "data": {
      "text/plain": [
       "<sklearn.metrics._plot.confusion_matrix.ConfusionMatrixDisplay at 0x253a840e9e0>"
      ]
     },
     "execution_count": 110,
     "metadata": {},
     "output_type": "execute_result"
    },
    {
     "data": {
      "image/png": "[encoded data removed]",
      "text/plain": [
       "<Figure size 432x288 with 2 Axes>"
      ]
     },
     "metadata": {
      "needs_background": "light"
     },
     "output_type": "display_data"
    }
   ],
   "source": [
    "from sklearn.ensemble import RandomForestClassifier\n",
    "rf = RandomForestClassifier()\n",
    "rf.fit(X_train_scaled, y_train)\n",
    "predictionsrf = rf.predict(X_test_scaled)\n",
    "accuracy = accuracy_score(y_test, predictionsrf)\n",
    "print(f'Accuracy: {accuracy:.2f}')\n",
    "cmrf = confusion_matrix(y_test, predictionsrf, labels=rf.classes_)\n",
    "disprf = ConfusionMatrixDisplay(confusion_matrix = cmrf, display_labels=rf.classes_)\n",
    "disprf.plot()"
   ]
  },
  {
   "cell_type": "markdown",
   "id": "3341f8df",
   "metadata": {},
   "source": [
    "### Naive Bayes"
   ]
  },
  {
   "cell_type": "code",
   "execution_count": 113,
   "id": "419d9dfa",
   "metadata": {},
   "outputs": [
    {
     "name": "stdout",
     "output_type": "stream",
     "text": [
      "Accuracy: 0.72\n"
     ]
    },
    {
     "data": {
      "text/plain": [
       "<sklearn.metrics._plot.confusion_matrix.ConfusionMatrixDisplay at 0x253a9d2fd90>"
      ]
     },
     "execution_count": 113,
     "metadata": {},
     "output_type": "execute_result"
    },
    {
     "data": {
      "image/png": "[encoded data removed]",
      "text/plain": [
       "<Figure size 432x288 with 2 Axes>"
      ]
     },
     "metadata": {
      "needs_background": "light"
     },
     "output_type": "display_data"
    }
   ],
   "source": [
    "from sklearn.naive_bayes import GaussianNB\n",
    "nb = GaussianNB()\n",
    "nb.fit(X_train, y_train)\n",
    "predictionsnb = nb.predict(X_test)\n",
    "accuracy = accuracy_score(y_test, predictionsnb)\n",
    "print(f'Accuracy: {accuracy:.2f}')\n",
    "\n",
    "cmnb = confusion_matrix(y_test, predictionsnb, labels=nb.classes_)\n",
    "dispnb = ConfusionMatrixDisplay(confusion_matrix = cmnb, display_labels=nb.classes_)\n",
    "dispnb.plot()"
   ]
  },
  {
   "cell_type": "markdown",
   "id": "d13a8857",
   "metadata": {},
   "source": [
    "### Metrike"
   ]
  },
  {
   "cell_type": "code",
   "execution_count": 121,
   "id": "a293f733",
   "metadata": {},
   "outputs": [
    {
     "data": {
      "image/png": "[encoded data removed]",
      "text/plain": [
       "<Figure size 432x288 with 1 Axes>"
      ]
     },
     "metadata": {
      "needs_background": "light"
     },
     "output_type": "display_data"
    }
   ],
   "source": [
    "from sklearn.metrics import roc_curve, auc\n",
    "\n",
    "y_probsdt = dt.predict_proba(X_test_scaled)[:, 1]\n",
    "y_probsrf = rf.predict_proba(X_test_scaled)[:, 1]\n",
    "y_probsnb = nb.predict_proba(X_test_scaled)[:, 1]\n",
    "\n",
    "fpr, tpr, thresholds = roc_curve(y_test, y_probsdt)\n",
    "roc_auc1 = auc(fpr, tpr)\n",
    "\n",
    "plt.plot(fpr, tpr, label=f'Decision Tree, (AUC = {roc_auc1:.3f})')\n",
    "\n",
    "fpr, tpr, thresholds = roc_curve(y_test, y_probsrf)\n",
    "roc_auc2 = auc(fpr, tpr)\n",
    "\n",
    "plt.plot(fpr, tpr, label=f'Random Forest, (AUC = {roc_auc2:.3f})')\n",
    "\n",
    "fpr, tpr, thresholds = roc_curve(y_test, y_probsnb)\n",
    "roc_auc3 = auc(fpr, tpr)\n",
    "\n",
    "plt.plot(fpr, tpr, label=f'Naive Bayes, (AUC = {roc_auc3:.3f})')\n",
    "\n",
    "plt.plot([0, 1], [0, 1], color='navy', lw=2, linestyle='--')\n",
    "plt.xlabel('1-Specificity')\n",
    "plt.ylabel('Sensitivity')\n",
    "plt.title('ROC Curves')\n",
    "plt.legend(loc='lower right')\n",
    "plt.show()"
   ]
  },
  {
   "cell_type": "markdown",
   "id": "e1294ae0",
   "metadata": {},
   "source": [
    "Najvišu AUC vrijednost ima klasifikator Random Forest, a najmanju Naive Bayes. U članku je najvišu imao također model Random Forest s 0.862, najmanju Decision Tree s 0.785, a Naive Bayes 0.846."
   ]
  },
  {
   "cell_type": "code",
   "execution_count": 122,
   "id": "a745b24b",
   "metadata": {},
   "outputs": [
    {
     "data": {
      "text/html": [
       "<style type=\"text/css\">\n",
       "#T_05f8b_row1_col0, #T_05f8b_row1_col1, #T_05f8b_row1_col2, #T_05f8b_row1_col3, #T_05f8b_row1_col4, #T_05f8b_row1_col5 {\n",
       "  background-color: yellow;\n",
       "}\n",
       "</style>\n",
       "<table id=\"T_05f8b\">\n",
       "  <thead>\n",
       "    <tr>\n",
       "      <th class=\"index_name level0\" >Model</th>\n",
       "      <th id=\"T_05f8b_level0_col0\" class=\"col_heading level0 col0\" >Accuracy</th>\n",
       "      <th id=\"T_05f8b_level0_col1\" class=\"col_heading level0 col1\" >Precision</th>\n",
       "      <th id=\"T_05f8b_level0_col2\" class=\"col_heading level0 col2\" >Sensitivity</th>\n",
       "      <th id=\"T_05f8b_level0_col3\" class=\"col_heading level0 col3\" >Specificity</th>\n",
       "      <th id=\"T_05f8b_level0_col4\" class=\"col_heading level0 col4\" >F1-Score</th>\n",
       "      <th id=\"T_05f8b_level0_col5\" class=\"col_heading level0 col5\" >AUC</th>\n",
       "    </tr>\n",
       "  </thead>\n",
       "  <tbody>\n",
       "    <tr>\n",
       "      <th id=\"T_05f8b_level0_row0\" class=\"row_heading level0 row0\" >Decision Tree</th>\n",
       "      <td id=\"T_05f8b_row0_col0\" class=\"data row0 col0\" >0.806667</td>\n",
       "      <td id=\"T_05f8b_row0_col1\" class=\"data row0 col1\" >0.822086</td>\n",
       "      <td id=\"T_05f8b_row0_col2\" class=\"data row0 col2\" >0.788321</td>\n",
       "      <td id=\"T_05f8b_row0_col3\" class=\"data row0 col3\" >0.822086</td>\n",
       "      <td id=\"T_05f8b_row0_col4\" class=\"data row0 col4\" >0.822086</td>\n",
       "      <td id=\"T_05f8b_row0_col5\" class=\"data row0 col5\" >0.805204</td>\n",
       "    </tr>\n",
       "    <tr>\n",
       "      <th id=\"T_05f8b_level0_row1\" class=\"row_heading level0 row1\" >Random Forest</th>\n",
       "      <td id=\"T_05f8b_row1_col0\" class=\"data row1 col0\" >0.846667</td>\n",
       "      <td id=\"T_05f8b_row1_col1\" class=\"data row1 col1\" >0.858896</td>\n",
       "      <td id=\"T_05f8b_row1_col2\" class=\"data row1 col2\" >0.832117</td>\n",
       "      <td id=\"T_05f8b_row1_col3\" class=\"data row1 col3\" >0.858896</td>\n",
       "      <td id=\"T_05f8b_row1_col4\" class=\"data row1 col4\" >0.858896</td>\n",
       "      <td id=\"T_05f8b_row1_col5\" class=\"data row1 col5\" >0.927813</td>\n",
       "    </tr>\n",
       "    <tr>\n",
       "      <th id=\"T_05f8b_level0_row2\" class=\"row_heading level0 row2\" >Naive Bayes</th>\n",
       "      <td id=\"T_05f8b_row2_col0\" class=\"data row2 col0\" >0.720000</td>\n",
       "      <td id=\"T_05f8b_row2_col1\" class=\"data row2 col1\" >0.776224</td>\n",
       "      <td id=\"T_05f8b_row2_col2\" class=\"data row2 col2\" >0.766423</td>\n",
       "      <td id=\"T_05f8b_row2_col3\" class=\"data row2 col3\" >0.680982</td>\n",
       "      <td id=\"T_05f8b_row2_col4\" class=\"data row2 col4\" >0.725490</td>\n",
       "      <td id=\"T_05f8b_row2_col5\" class=\"data row2 col5\" >0.528413</td>\n",
       "    </tr>\n",
       "  </tbody>\n",
       "</table>\n"
      ],
      "text/plain": [
       "<pandas.io.formats.style.Styler at 0x253aa00fdf0>"
      ]
     },
     "execution_count": 122,
     "metadata": {},
     "output_type": "execute_result"
    }
   ],
   "source": [
    "from sklearn.metrics import precision_score, recall_score, f1_score\n",
    "\n",
    "#\"DT\"\n",
    "acc1 = accuracy_score(y_test,predictions)\n",
    "pr1 = precision_score(y_test,predictions)\n",
    "se1 = recall_score(y_test,predictions)\n",
    "sp1 = cm[0, 0] / (cm[0, 0] + cm[0, 1])\n",
    "fs1 = f1_score(y_test,predictions)\n",
    "\n",
    "#\"RF\"\n",
    "acc2 = accuracy_score(y_test,predictionsrf)\n",
    "pr2 = precision_score(y_test,predictionsrf)\n",
    "se2 = recall_score(y_test,predictionsrf)\n",
    "sp2 = cmrf[0, 0] / (cmrf[0, 0] + cmrf[0, 1])\n",
    "fs2 = f1_score(y_test,predictionsrf)\n",
    "\n",
    "#\"NB\"\n",
    "acc3 = accuracy_score(y_test,predictionsnb)\n",
    "pr3 = precision_score(y_test,predictionsnb)\n",
    "se3 = recall_score(y_test,predictionsnb)\n",
    "sp3 = cmnb[0, 0] / (cmnb[0, 0] + cmnb[0, 1])\n",
    "fs3 = f1_score(y_test,predictionsnb)\n",
    "\n",
    "results_df = pd.DataFrame({\n",
    "    'Model': ['Accuracy', 'Precision', 'Sensitivity', 'Specificity', 'F1-Score', 'AUC'],\n",
    "    'Decision Tree': [acc1, pr1,  sp1, se1, fs1, roc_auc1],\n",
    "    'Random Forest': [acc2, pr2,  sp2, se2, fs2, roc_auc2],\n",
    "    'Naive Bayes': [acc3, pr3, sp3, se3, fs3, roc_auc3]\n",
    "})\n",
    "\n",
    "def highlight_max(s):\n",
    "    is_max = s == s.max()\n",
    "    return ['background-color: yellow' if v else '' for v in is_max]\n",
    "\n",
    "results_df.set_index('Model',inplace=True)\n",
    "\n",
    "transposed_results_df = results_df.transpose()\n",
    "styled_transposed_results_df = transposed_results_df.style.apply(highlight_max, subset=transposed_results_df.columns)\n",
    "\n",
    "styled_transposed_results_df"
   ]
  },
  {
   "cell_type": "markdown",
   "id": "5b7168e3",
   "metadata": {},
   "source": [
    "Random Forest je i u članku davao najbolje vrijednosti za sve metrike osim \"Sensitivity\" za koju je Decision Tree. Točnost Random Forest veća je nego u članku gdje je iznosila 0.7957. Također je veća i za Decision Tree za koji je iznosila 0.7478, a manja za Naive Bayes koja je bila 0.7867."
   ]
  },
  {
   "cell_type": "markdown",
   "id": "0dff075c",
   "metadata": {},
   "source": [
    "## SVM"
   ]
  },
  {
   "cell_type": "markdown",
   "id": "de4057f7",
   "metadata": {},
   "source": [
    "Proveli smo rešetkasto pretraživanje radi pronalaska optimalnih parametara i na najboljem dobivenom modelu SVM proveli učenje."
   ]
  },
  {
   "cell_type": "code",
   "execution_count": 22,
   "id": "113ab22d",
   "metadata": {},
   "outputs": [
    {
     "name": "stdout",
     "output_type": "stream",
     "text": [
      "Najbolji parametri: {'C': 4, 'gamma': 1, 'kernel': 'rbf'}\n",
      "Accuracy: 0.81\n"
     ]
    }
   ],
   "source": [
    "from sklearn.svm import SVC\n",
    "from sklearn.model_selection import GridSearchCV\n",
    "\n",
    "C = []\n",
    "for i in range(0, 6):\n",
    "        C.append(2**i)\n",
    "\n",
    "param_grid = {\n",
    "    'C': C,  # Hiperparametar C\n",
    "    'kernel': ['linear', 'rbf', 'poly'],  # Tip jezgre\n",
    "    'gamma': ['scale', 'auto', 0.1, 1]  # Hiperparametar gamma (važan kod 'rbf' i 'poly' jezgri)\n",
    "}\n",
    "svm_model = SVC()\n",
    "\n",
    "# Inicijalizacija GridSearchCV za pretraživanje po rešetci\n",
    "grid_search = GridSearchCV(svm_model, param_grid, cv=5, scoring='accuracy')\n",
    "\n",
    "# Primjena GridSearchCV na trening podacima\n",
    "grid_search.fit(X_train_scaled, y_train)\n",
    "\n",
    "# Najbolji model i parametri\n",
    "best_model = grid_search.best_estimator_\n",
    "best_params = grid_search.best_params_\n",
    "\n",
    "# Predviđanje na test setu\n",
    "y_pred = best_model.predict(X_test_scaled)\n",
    "\n",
    "accuracy = accuracy_score(y_test, y_pred)\n",
    "print(f'Najbolji parametri: {best_params}')\n",
    "print(f'Accuracy: {accuracy:.2f}')"
   ]
  },
  {
   "cell_type": "code",
   "execution_count": 125,
   "id": "01d303b7",
   "metadata": {},
   "outputs": [
    {
     "data": {
      "text/plain": [
       "<sklearn.metrics._plot.confusion_matrix.ConfusionMatrixDisplay at 0x253a832bf40>"
      ]
     },
     "execution_count": 125,
     "metadata": {},
     "output_type": "execute_result"
    },
    {
     "data": {
      "image/png": "[encoded data removed]",
      "text/plain": [
       "<Figure size 432x288 with 2 Axes>"
      ]
     },
     "metadata": {
      "needs_background": "light"
     },
     "output_type": "display_data"
    }
   ],
   "source": [
    "cms = confusion_matrix(y_test, y_pred)\n",
    "disps = ConfusionMatrixDisplay(confusion_matrix = cms, display_labels=best_model.classes_)\n",
    "disps.plot()"
   ]
  },
  {
   "cell_type": "code",
   "execution_count": 142,
   "id": "71a7ad55",
   "metadata": {},
   "outputs": [
    {
     "data": {
      "image/png": "[encoded data removed]",
      "text/plain": [
       "<Figure size 432x288 with 1 Axes>"
      ]
     },
     "metadata": {
      "needs_background": "light"
     },
     "output_type": "display_data"
    }
   ],
   "source": [
    "bmsvm = SVC(C=4, kernel='rbf', gamma=1.0, probability=True).fit(X_train_scaled, y_train)\n",
    "y_probss = bmsvm.predict_proba(X_test_scaled)[:, 1]\n",
    "fpr, tpr, thresholds = roc_curve(y_test, y_probss)\n",
    "roc_aucs = auc(fpr, tpr)\n",
    "\n",
    "plt.plot(fpr, tpr, label=f'SVM, (AUC = {roc_aucs:.3f})')\n",
    "\n",
    "plt.plot([0, 1], [0, 1], color='navy', lw=2, linestyle='--')\n",
    "plt.xlabel('1-Specificity')\n",
    "plt.ylabel('Sensitivity')\n",
    "plt.title('ROC Curves')\n",
    "plt.legend(loc='lower right')\n",
    "plt.show()"
   ]
  },
  {
   "cell_type": "markdown",
   "id": "3f5d4803",
   "metadata": {},
   "source": [
    "AUC vrijednost od 0.909 bolja je od sva tri modela u članku."
   ]
  },
  {
   "cell_type": "code",
   "execution_count": 139,
   "id": "2c1be2a3",
   "metadata": {},
   "outputs": [
    {
     "data": {
      "text/html": [
       "<div>\n",
       "<style scoped>\n",
       "    .dataframe tbody tr th:only-of-type {\n",
       "        vertical-align: middle;\n",
       "    }\n",
       "\n",
       "    .dataframe tbody tr th {\n",
       "        vertical-align: top;\n",
       "    }\n",
       "\n",
       "    .dataframe thead th {\n",
       "        text-align: right;\n",
       "    }\n",
       "</style>\n",
       "<table border=\"1\" class=\"dataframe\">\n",
       "  <thead>\n",
       "    <tr style=\"text-align: right;\">\n",
       "      <th>Model</th>\n",
       "      <th>Accuracy</th>\n",
       "      <th>Precision</th>\n",
       "      <th>Sensitivity</th>\n",
       "      <th>Specificity</th>\n",
       "      <th>F1-Score</th>\n",
       "      <th>AUC</th>\n",
       "    </tr>\n",
       "  </thead>\n",
       "  <tbody>\n",
       "    <tr>\n",
       "      <th>SVM</th>\n",
       "      <td>0.81</td>\n",
       "      <td>0.858108</td>\n",
       "      <td>0.766423</td>\n",
       "      <td>0.779141</td>\n",
       "      <td>0.81672</td>\n",
       "      <td>0.90905</td>\n",
       "    </tr>\n",
       "  </tbody>\n",
       "</table>\n",
       "</div>"
      ],
      "text/plain": [
       "Model  Accuracy  Precision  Sensitivity  Specificity  F1-Score      AUC\n",
       "SVM        0.81   0.858108     0.766423     0.779141   0.81672  0.90905"
      ]
     },
     "execution_count": 139,
     "metadata": {},
     "output_type": "execute_result"
    }
   ],
   "source": [
    "y_pred = best_model.predict(X_test_scaled)\n",
    "\n",
    "accuracy = accuracy_score(y_test, y_pred)\n",
    "pr = precision_score(y_test,y_pred)\n",
    "se = recall_score(y_test,y_pred)\n",
    "sp = cmnb[0, 0] / (cmnb[0, 0] + cmnb[0, 1])\n",
    "fs = f1_score(y_test,y_pred)\n",
    "\n",
    "results_df = pd.DataFrame({\n",
    "    'Model': ['Accuracy', 'Precision', 'Sensitivity', 'Specificity', 'F1-Score', 'AUC'],\n",
    "    'SVM': [accuracy, pr,  sp, se, fs, roc_aucs]})\n",
    "results_df.set_index('Model',inplace=True)\n",
    "\n",
    "transposed_results_df = results_df.transpose()\n",
    "transposed_results_df"
   ]
  },
  {
   "cell_type": "markdown",
   "id": "680e64a9",
   "metadata": {},
   "source": [
    "Točnost, specifičnost i AUC imaju veće vrijednosti od maksimalnih u članku između tri modela."
   ]
  },
  {
   "cell_type": "markdown",
   "id": "b3935fd9",
   "metadata": {},
   "source": [
    "## Gradient Boosting"
   ]
  },
  {
   "cell_type": "code",
   "execution_count": 75,
   "id": "d52812ee",
   "metadata": {},
   "outputs": [
    {
     "name": "stdout",
     "output_type": "stream",
     "text": [
      "Accuracy: 0.80\n"
     ]
    }
   ],
   "source": [
    "from xgboost import XGBClassifier\n",
    "xcla = XGBClassifier()\n",
    "xcla.fit(X_train_scaled, y_train)\n",
    "predicted = xcla.predict(X_test_scaled)\n",
    "acu = accuracy_score(predicted, y_test)\n",
    "print(f'Accuracy: {acu:.2f}')"
   ]
  },
  {
   "cell_type": "code",
   "execution_count": 141,
   "id": "b0afdec0",
   "metadata": {},
   "outputs": [
    {
     "data": {
      "text/plain": [
       "<sklearn.metrics._plot.confusion_matrix.ConfusionMatrixDisplay at 0x253ab10e4d0>"
      ]
     },
     "execution_count": 141,
     "metadata": {},
     "output_type": "execute_result"
    },
    {
     "data": {
      "image/png": "[encoded data removed]",
      "text/plain": [
       "<Figure size 432x288 with 2 Axes>"
      ]
     },
     "metadata": {
      "needs_background": "light"
     },
     "output_type": "display_data"
    }
   ],
   "source": [
    "cmgb = confusion_matrix(y_test, predicted)\n",
    "dispgb = ConfusionMatrixDisplay(confusion_matrix = cmgb, display_labels=xcla.classes_)\n",
    "dispgb.plot()"
   ]
  },
  {
   "cell_type": "code",
   "execution_count": 143,
   "id": "a69454cf",
   "metadata": {},
   "outputs": [
    {
     "data": {
      "image/png": "[encoded data removed]",
      "text/plain": [
       "<Figure size 432x288 with 1 Axes>"
      ]
     },
     "metadata": {
      "needs_background": "light"
     },
     "output_type": "display_data"
    }
   ],
   "source": [
    "y_probsgb = xcla.predict_proba(X_test_scaled)[:, 1]\n",
    "fpr, tpr, thresholds = roc_curve(y_test, y_probsgb)\n",
    "roc_aucgb = auc(fpr, tpr)\n",
    "\n",
    "plt.plot(fpr, tpr, label=f'Gradient Boosting, (AUC = {roc_aucgb:.3f})')\n",
    "\n",
    "plt.plot([0, 1], [0, 1], color='navy', lw=2, linestyle='--')\n",
    "plt.xlabel('1-Specificity')\n",
    "plt.ylabel('Sensitivity')\n",
    "plt.title('ROC Curves')\n",
    "plt.legend(loc='lower right')\n",
    "plt.show()"
   ]
  },
  {
   "cell_type": "markdown",
   "id": "4fec0c91",
   "metadata": {},
   "source": [
    "AUC vrijednost modela bolja je od sva tri modela korištena u članku."
   ]
  },
  {
   "cell_type": "code",
   "execution_count": 144,
   "id": "68932c25",
   "metadata": {},
   "outputs": [
    {
     "data": {
      "text/html": [
       "<div>\n",
       "<style scoped>\n",
       "    .dataframe tbody tr th:only-of-type {\n",
       "        vertical-align: middle;\n",
       "    }\n",
       "\n",
       "    .dataframe tbody tr th {\n",
       "        vertical-align: top;\n",
       "    }\n",
       "\n",
       "    .dataframe thead th {\n",
       "        text-align: right;\n",
       "    }\n",
       "</style>\n",
       "<table border=\"1\" class=\"dataframe\">\n",
       "  <thead>\n",
       "    <tr style=\"text-align: right;\">\n",
       "      <th>Model</th>\n",
       "      <th>Accuracy</th>\n",
       "      <th>Precision</th>\n",
       "      <th>Sensitivity</th>\n",
       "      <th>Specificity</th>\n",
       "      <th>F1-Score</th>\n",
       "      <th>AUC</th>\n",
       "    </tr>\n",
       "  </thead>\n",
       "  <tbody>\n",
       "    <tr>\n",
       "      <th>Gradient Boosting</th>\n",
       "      <td>0.796667</td>\n",
       "      <td>0.810976</td>\n",
       "      <td>0.766423</td>\n",
       "      <td>0.815951</td>\n",
       "      <td>0.813456</td>\n",
       "      <td>0.905513</td>\n",
       "    </tr>\n",
       "  </tbody>\n",
       "</table>\n",
       "</div>"
      ],
      "text/plain": [
       "Model              Accuracy  Precision  Sensitivity  Specificity  F1-Score  \\\n",
       "Gradient Boosting  0.796667   0.810976     0.766423     0.815951  0.813456   \n",
       "\n",
       "Model                   AUC  \n",
       "Gradient Boosting  0.905513  "
      ]
     },
     "execution_count": 144,
     "metadata": {},
     "output_type": "execute_result"
    }
   ],
   "source": [
    "accuracy = accuracy_score(y_test, predicted)\n",
    "pr = precision_score(y_test,predicted)\n",
    "se = recall_score(y_test,predicted)\n",
    "sp = cmnb[0, 0] / (cmnb[0, 0] + cmnb[0, 1])\n",
    "fs = f1_score(y_test,predicted)\n",
    "\n",
    "results_df = pd.DataFrame({\n",
    "    'Model': ['Accuracy', 'Precision', 'Sensitivity', 'Specificity', 'F1-Score', 'AUC'],\n",
    "    'Gradient Boosting': [accuracy, pr,  sp, se, fs, roc_aucgb]})\n",
    "results_df.set_index('Model',inplace=True)\n",
    "\n",
    "transposed_results_df = results_df.transpose()\n",
    "transposed_results_df"
   ]
  },
  {
   "cell_type": "markdown",
   "id": "38ccb91e",
   "metadata": {},
   "source": [
    "Točnost je samo mrvicu bolja od točnosti Random Forest 0.7957 što je najviša točnost od sva tri modela u članku. Bolje su i specifičnost i AUC vrijednost od onih najboljih u članku koje opet pripadaju Random Forest modelu."
   ]
  }
 ],
 "metadata": {
  "kernelspec": {
   "display_name": "Python 3 (ipykernel)",
   "language": "python",
   "name": "python3"
  },
  "language_info": {
   "codemirror_mode": {
    "name": "ipython",
    "version": 3
   },
   "file_extension": ".py",
   "mimetype": "text/x-python",
   "name": "python",
   "nbconvert_exporter": "python",
   "pygments_lexer": "ipython3",
   "version": "3.11.5"
  }
 },
 "nbformat": 4,
 "nbformat_minor": 5
}
