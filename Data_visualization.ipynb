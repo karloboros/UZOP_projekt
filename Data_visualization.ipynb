{
 "cells": [
  {
   "cell_type": "markdown",
   "id": "92c49857-11a0-4314-b718-e3a3fa91745e",
   "metadata": {
    "tags": []
   },
   "source": [
    "# Data visualization\n",
    "- Intro to Data Science\n",
    "- Karlo Boroš - 0036531517\n",
    "- Dataset: \"Pima Indians diabetes mellitus classification based on machine learning (ML) algorithms\"\n",
    "\n",
    "### Vizualizacija podataka\n",
    "- Uvod u znanost o podacima\n",
    "- Karlo Boroš - 0036531517\n",
    "- Zadani skup podataka: \"Pima Indians diabetes mellitus classification based on machine learning (ML) algorithms\""
   ]
  },
  {
   "cell_type": "markdown",
   "id": "0071b562-e331-45b1-aa92-372f7fa3d716",
   "metadata": {},
   "source": [
    "### 1. Priprema podataka"
   ]
  },
  {
   "cell_type": "markdown",
   "id": "06d0e05d-4fb9-4643-a15a-8703d4e3a9e3",
   "metadata": {},
   "source": [
    "#### a) Učitavanje podataka"
   ]
  },
  {
   "cell_type": "code",
   "execution_count": null,
   "id": "b3d1b20c-14db-4c6d-8382-e86a17ee10fd",
   "metadata": {},
   "outputs": [],
   "source": []
  },
  {
   "cell_type": "markdown",
   "id": "795fc0ec-28a0-4da6-80d7-645eade50e46",
   "metadata": {},
   "source": [
    "#### b) Prilagodba podataka za analizu"
   ]
  },
  {
   "cell_type": "code",
   "execution_count": null,
   "id": "4865a89e-e196-4da0-ada4-0489e34d912c",
   "metadata": {},
   "outputs": [],
   "source": []
  },
  {
   "cell_type": "markdown",
   "id": "e1b68da8-43ed-4e63-97a3-4a23cf36ae8b",
   "metadata": {},
   "source": [
    "### 2. Vizualizacija podataka"
   ]
  },
  {
   "cell_type": "markdown",
   "id": "c31fe7c1-3e82-4257-897d-9c4e8787e55f",
   "metadata": {},
   "source": [
    "#### y) X tip vizualizacije"
   ]
  },
  {
   "cell_type": "code",
   "execution_count": null,
   "id": "a376f15c-bb9f-443d-ae6a-2588df2a35b7",
   "metadata": {},
   "outputs": [],
   "source": []
  },
  {
   "cell_type": "markdown",
   "id": "55ebf6b5-42b2-46d0-a70a-9f274d68e0cc",
   "metadata": {},
   "source": [
    "#### y) X tip vizualizacije"
   ]
  },
  {
   "cell_type": "code",
   "execution_count": null,
   "id": "0345a989-ba15-4db7-b01e-a315bf9d26e6",
   "metadata": {},
   "outputs": [],
   "source": []
  },
  {
   "cell_type": "markdown",
   "id": "e906dcc3-a40b-45d7-954c-659c12ae866f",
   "metadata": {},
   "source": [
    "#### y) X tip vizualizacije"
   ]
  },
  {
   "cell_type": "code",
   "execution_count": null,
   "id": "951c92d3-627f-4ce9-931a-35a6cf66da37",
   "metadata": {},
   "outputs": [],
   "source": []
  },
  {
   "cell_type": "markdown",
   "id": "20269988-d0f4-4017-a7b5-a8ee3571a2cf",
   "metadata": {},
   "source": [
    "#### y) X tip vizualizacije"
   ]
  },
  {
   "cell_type": "code",
   "execution_count": null,
   "id": "c6ebd7a3-578c-48e1-9551-68cbb7a867cc",
   "metadata": {},
   "outputs": [],
   "source": []
  },
  {
   "cell_type": "markdown",
   "id": "97e4bf18-8615-4e30-9e5a-def6737e1d7e",
   "metadata": {},
   "source": [
    "#### y) X tip vizualizacije"
   ]
  },
  {
   "cell_type": "code",
   "execution_count": null,
   "id": "d2890c87-927d-4163-87a3-024d31dd72e7",
   "metadata": {},
   "outputs": [],
   "source": []
  }
 ],
 "metadata": {
  "kernelspec": {
   "display_name": "Python 3 (ipykernel)",
   "language": "python",
   "name": "python3"
  },
  "language_info": {
   "codemirror_mode": {
    "name": "ipython",
    "version": 3
   },
   "file_extension": ".py",
   "mimetype": "text/x-python",
   "name": "python",
   "nbconvert_exporter": "python",
   "pygments_lexer": "ipython3",
   "version": "3.11.5"
  }
 },
 "nbformat": 4,
 "nbformat_minor": 5
}
