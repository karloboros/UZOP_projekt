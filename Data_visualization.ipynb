{
 "cells": [
  {
   "cell_type": "markdown",
   "id": "92c49857-11a0-4314-b718-e3a3fa91745e",
   "metadata": {
    "tags": []
   },
   "source": [
    "# Data visualization\n",
    "- Intro to Data Science\n",
    "- Karlo Boroš - 0036531517\n",
    "- Dataset: \"Pima Indians diabetes mellitus classification based on machine learning (ML) algorithms\"\n",
    "\n",
    "### Vizualizacija podataka\n",
    "- Uvod u znanost o podacima\n",
    "- Karlo Boroš - 0036531517\n",
    "- Zadani skup podataka: \"Pima Indians diabetes mellitus classification based on machine learning (ML) algorithms\""
   ]
  },
  {
   "cell_type": "markdown",
   "id": "a5c21003-51f2-40e2-88ff-1d66ba5836e1",
   "metadata": {},
   "source": [
    "### 0. Učitavanje potrebnih paketa"
   ]
  },
  {
   "cell_type": "code",
   "execution_count": 1,
   "id": "ff2982ee-6bae-4031-9a73-23cde58e4bdf",
   "metadata": {
    "tags": []
   },
   "outputs": [],
   "source": [
    "import numpy as np\n",
    "import pandas as pd\n",
    "import matplotlib.pyplot as plt\n",
    "import seaborn as sns"
   ]
  },
  {
   "cell_type": "markdown",
   "id": "4d72104d-0527-453e-93ff-9b56dbf4d74e",
   "metadata": {},
   "source": [
    "### 1. Priprema podataka"
   ]
  },
  {
   "cell_type": "markdown",
   "id": "06d0e05d-4fb9-4643-a15a-8703d4e3a9e3",
   "metadata": {},
   "source": [
    "#### a) Učitavanje skupa i prvi pogled na podatke"
   ]
  },
  {
   "cell_type": "code",
   "execution_count": 2,
   "id": "b3d1b20c-14db-4c6d-8382-e86a17ee10fd",
   "metadata": {},
   "outputs": [],
   "source": [
    "data = pd.read_csv(\"diabetes.csv\")"
   ]
  },
  {
   "cell_type": "code",
   "execution_count": 3,
   "id": "46485149-4ff5-4a9c-9a8d-af9c330548d3",
   "metadata": {},
   "outputs": [
    {
     "data": {
      "text/plain": [
       "(768, 9)"
      ]
     },
     "execution_count": 3,
     "metadata": {},
     "output_type": "execute_result"
    }
   ],
   "source": [
    "data.shape"
   ]
  },
  {
   "cell_type": "code",
   "execution_count": 41,
   "id": "dcc0573e-0707-406f-b50e-69d6fe55e5bd",
   "metadata": {
    "tags": []
   },
   "outputs": [
    {
     "name": "stdout",
     "output_type": "stream",
     "text": [
      "<class 'pandas.core.frame.DataFrame'>\n",
      "RangeIndex: 768 entries, 0 to 767\n",
      "Data columns (total 9 columns):\n",
      " #   Column                    Non-Null Count  Dtype  \n",
      "---  ------                    --------------  -----  \n",
      " 0   Pregnancies               768 non-null    int64  \n",
      " 1   Glucose                   768 non-null    int64  \n",
      " 2   BloodPressure             768 non-null    int64  \n",
      " 3   SkinThickness             768 non-null    int64  \n",
      " 4   Insulin                   768 non-null    int64  \n",
      " 5   BMI                       768 non-null    float64\n",
      " 6   DiabetesPedigreeFunction  768 non-null    float64\n",
      " 7   Age                       768 non-null    int64  \n",
      " 8   Outcome                   768 non-null    int64  \n",
      "dtypes: float64(2), int64(7)\n",
      "memory usage: 54.1 KB\n"
     ]
    }
   ],
   "source": [
    "data.info()"
   ]
  },
  {
   "cell_type": "code",
   "execution_count": 4,
   "id": "97298322-3300-49d1-b13d-2a06a83dd30c",
   "metadata": {},
   "outputs": [
    {
     "data": {
      "text/html": [
       "<div>\n",
       "<style scoped>\n",
       "    .dataframe tbody tr th:only-of-type {\n",
       "        vertical-align: middle;\n",
       "    }\n",
       "\n",
       "    .dataframe tbody tr th {\n",
       "        vertical-align: top;\n",
       "    }\n",
       "\n",
       "    .dataframe thead th {\n",
       "        text-align: right;\n",
       "    }\n",
       "</style>\n",
       "<table border=\"1\" class=\"dataframe\">\n",
       "  <thead>\n",
       "    <tr style=\"text-align: right;\">\n",
       "      <th></th>\n",
       "      <th>Pregnancies</th>\n",
       "      <th>Glucose</th>\n",
       "      <th>BloodPressure</th>\n",
       "      <th>SkinThickness</th>\n",
       "      <th>Insulin</th>\n",
       "      <th>BMI</th>\n",
       "      <th>DiabetesPedigreeFunction</th>\n",
       "      <th>Age</th>\n",
       "      <th>Outcome</th>\n",
       "    </tr>\n",
       "  </thead>\n",
       "  <tbody>\n",
       "    <tr>\n",
       "      <th>0</th>\n",
       "      <td>6</td>\n",
       "      <td>148</td>\n",
       "      <td>72</td>\n",
       "      <td>35</td>\n",
       "      <td>0</td>\n",
       "      <td>33.6</td>\n",
       "      <td>0.627</td>\n",
       "      <td>50</td>\n",
       "      <td>1</td>\n",
       "    </tr>\n",
       "    <tr>\n",
       "      <th>1</th>\n",
       "      <td>1</td>\n",
       "      <td>85</td>\n",
       "      <td>66</td>\n",
       "      <td>29</td>\n",
       "      <td>0</td>\n",
       "      <td>26.6</td>\n",
       "      <td>0.351</td>\n",
       "      <td>31</td>\n",
       "      <td>0</td>\n",
       "    </tr>\n",
       "    <tr>\n",
       "      <th>2</th>\n",
       "      <td>8</td>\n",
       "      <td>183</td>\n",
       "      <td>64</td>\n",
       "      <td>0</td>\n",
       "      <td>0</td>\n",
       "      <td>23.3</td>\n",
       "      <td>0.672</td>\n",
       "      <td>32</td>\n",
       "      <td>1</td>\n",
       "    </tr>\n",
       "    <tr>\n",
       "      <th>3</th>\n",
       "      <td>1</td>\n",
       "      <td>89</td>\n",
       "      <td>66</td>\n",
       "      <td>23</td>\n",
       "      <td>94</td>\n",
       "      <td>28.1</td>\n",
       "      <td>0.167</td>\n",
       "      <td>21</td>\n",
       "      <td>0</td>\n",
       "    </tr>\n",
       "    <tr>\n",
       "      <th>4</th>\n",
       "      <td>0</td>\n",
       "      <td>137</td>\n",
       "      <td>40</td>\n",
       "      <td>35</td>\n",
       "      <td>168</td>\n",
       "      <td>43.1</td>\n",
       "      <td>2.288</td>\n",
       "      <td>33</td>\n",
       "      <td>1</td>\n",
       "    </tr>\n",
       "  </tbody>\n",
       "</table>\n",
       "</div>"
      ],
      "text/plain": [
       "   Pregnancies  Glucose  BloodPressure  SkinThickness  Insulin   BMI  \\\n",
       "0            6      148             72             35        0  33.6   \n",
       "1            1       85             66             29        0  26.6   \n",
       "2            8      183             64              0        0  23.3   \n",
       "3            1       89             66             23       94  28.1   \n",
       "4            0      137             40             35      168  43.1   \n",
       "\n",
       "   DiabetesPedigreeFunction  Age  Outcome  \n",
       "0                     0.627   50        1  \n",
       "1                     0.351   31        0  \n",
       "2                     0.672   32        1  \n",
       "3                     0.167   21        0  \n",
       "4                     2.288   33        1  "
      ]
     },
     "execution_count": 4,
     "metadata": {},
     "output_type": "execute_result"
    }
   ],
   "source": [
    "data.head()"
   ]
  },
  {
   "cell_type": "code",
   "execution_count": 5,
   "id": "83a1f225-a7b5-421b-bbbb-a261edce0815",
   "metadata": {},
   "outputs": [
    {
     "data": {
      "text/html": [
       "<div>\n",
       "<style scoped>\n",
       "    .dataframe tbody tr th:only-of-type {\n",
       "        vertical-align: middle;\n",
       "    }\n",
       "\n",
       "    .dataframe tbody tr th {\n",
       "        vertical-align: top;\n",
       "    }\n",
       "\n",
       "    .dataframe thead th {\n",
       "        text-align: right;\n",
       "    }\n",
       "</style>\n",
       "<table border=\"1\" class=\"dataframe\">\n",
       "  <thead>\n",
       "    <tr style=\"text-align: right;\">\n",
       "      <th></th>\n",
       "      <th>Pregnancies</th>\n",
       "      <th>Glucose</th>\n",
       "      <th>BloodPressure</th>\n",
       "      <th>SkinThickness</th>\n",
       "      <th>Insulin</th>\n",
       "      <th>BMI</th>\n",
       "      <th>DiabetesPedigreeFunction</th>\n",
       "      <th>Age</th>\n",
       "      <th>Outcome</th>\n",
       "    </tr>\n",
       "  </thead>\n",
       "  <tbody>\n",
       "    <tr>\n",
       "      <th>count</th>\n",
       "      <td>768.000000</td>\n",
       "      <td>768.000000</td>\n",
       "      <td>768.000000</td>\n",
       "      <td>768.000000</td>\n",
       "      <td>768.000000</td>\n",
       "      <td>768.000000</td>\n",
       "      <td>768.000000</td>\n",
       "      <td>768.000000</td>\n",
       "      <td>768.000000</td>\n",
       "    </tr>\n",
       "    <tr>\n",
       "      <th>mean</th>\n",
       "      <td>3.845052</td>\n",
       "      <td>120.894531</td>\n",
       "      <td>69.105469</td>\n",
       "      <td>20.536458</td>\n",
       "      <td>79.799479</td>\n",
       "      <td>31.992578</td>\n",
       "      <td>0.471876</td>\n",
       "      <td>33.240885</td>\n",
       "      <td>0.348958</td>\n",
       "    </tr>\n",
       "    <tr>\n",
       "      <th>std</th>\n",
       "      <td>3.369578</td>\n",
       "      <td>31.972618</td>\n",
       "      <td>19.355807</td>\n",
       "      <td>15.952218</td>\n",
       "      <td>115.244002</td>\n",
       "      <td>7.884160</td>\n",
       "      <td>0.331329</td>\n",
       "      <td>11.760232</td>\n",
       "      <td>0.476951</td>\n",
       "    </tr>\n",
       "    <tr>\n",
       "      <th>min</th>\n",
       "      <td>0.000000</td>\n",
       "      <td>0.000000</td>\n",
       "      <td>0.000000</td>\n",
       "      <td>0.000000</td>\n",
       "      <td>0.000000</td>\n",
       "      <td>0.000000</td>\n",
       "      <td>0.078000</td>\n",
       "      <td>21.000000</td>\n",
       "      <td>0.000000</td>\n",
       "    </tr>\n",
       "    <tr>\n",
       "      <th>25%</th>\n",
       "      <td>1.000000</td>\n",
       "      <td>99.000000</td>\n",
       "      <td>62.000000</td>\n",
       "      <td>0.000000</td>\n",
       "      <td>0.000000</td>\n",
       "      <td>27.300000</td>\n",
       "      <td>0.243750</td>\n",
       "      <td>24.000000</td>\n",
       "      <td>0.000000</td>\n",
       "    </tr>\n",
       "    <tr>\n",
       "      <th>50%</th>\n",
       "      <td>3.000000</td>\n",
       "      <td>117.000000</td>\n",
       "      <td>72.000000</td>\n",
       "      <td>23.000000</td>\n",
       "      <td>30.500000</td>\n",
       "      <td>32.000000</td>\n",
       "      <td>0.372500</td>\n",
       "      <td>29.000000</td>\n",
       "      <td>0.000000</td>\n",
       "    </tr>\n",
       "    <tr>\n",
       "      <th>75%</th>\n",
       "      <td>6.000000</td>\n",
       "      <td>140.250000</td>\n",
       "      <td>80.000000</td>\n",
       "      <td>32.000000</td>\n",
       "      <td>127.250000</td>\n",
       "      <td>36.600000</td>\n",
       "      <td>0.626250</td>\n",
       "      <td>41.000000</td>\n",
       "      <td>1.000000</td>\n",
       "    </tr>\n",
       "    <tr>\n",
       "      <th>max</th>\n",
       "      <td>17.000000</td>\n",
       "      <td>199.000000</td>\n",
       "      <td>122.000000</td>\n",
       "      <td>99.000000</td>\n",
       "      <td>846.000000</td>\n",
       "      <td>67.100000</td>\n",
       "      <td>2.420000</td>\n",
       "      <td>81.000000</td>\n",
       "      <td>1.000000</td>\n",
       "    </tr>\n",
       "  </tbody>\n",
       "</table>\n",
       "</div>"
      ],
      "text/plain": [
       "       Pregnancies     Glucose  BloodPressure  SkinThickness     Insulin  \\\n",
       "count   768.000000  768.000000     768.000000     768.000000  768.000000   \n",
       "mean      3.845052  120.894531      69.105469      20.536458   79.799479   \n",
       "std       3.369578   31.972618      19.355807      15.952218  115.244002   \n",
       "min       0.000000    0.000000       0.000000       0.000000    0.000000   \n",
       "25%       1.000000   99.000000      62.000000       0.000000    0.000000   \n",
       "50%       3.000000  117.000000      72.000000      23.000000   30.500000   \n",
       "75%       6.000000  140.250000      80.000000      32.000000  127.250000   \n",
       "max      17.000000  199.000000     122.000000      99.000000  846.000000   \n",
       "\n",
       "              BMI  DiabetesPedigreeFunction         Age     Outcome  \n",
       "count  768.000000                768.000000  768.000000  768.000000  \n",
       "mean    31.992578                  0.471876   33.240885    0.348958  \n",
       "std      7.884160                  0.331329   11.760232    0.476951  \n",
       "min      0.000000                  0.078000   21.000000    0.000000  \n",
       "25%     27.300000                  0.243750   24.000000    0.000000  \n",
       "50%     32.000000                  0.372500   29.000000    0.000000  \n",
       "75%     36.600000                  0.626250   41.000000    1.000000  \n",
       "max     67.100000                  2.420000   81.000000    1.000000  "
      ]
     },
     "execution_count": 5,
     "metadata": {},
     "output_type": "execute_result"
    }
   ],
   "source": [
    "data.describe()"
   ]
  },
  {
   "cell_type": "code",
   "execution_count": 6,
   "id": "ee8cbfd7-9544-48d6-925d-ac71c33c4d66",
   "metadata": {},
   "outputs": [
    {
     "data": {
      "text/plain": [
       "Pregnancies                  17\n",
       "Glucose                     136\n",
       "BloodPressure                47\n",
       "SkinThickness                51\n",
       "Insulin                     186\n",
       "BMI                         248\n",
       "DiabetesPedigreeFunction    517\n",
       "Age                          52\n",
       "Outcome                       2\n",
       "dtype: int64"
      ]
     },
     "execution_count": 6,
     "metadata": {},
     "output_type": "execute_result"
    }
   ],
   "source": [
    "data.nunique()"
   ]
  },
  {
   "cell_type": "code",
   "execution_count": 7,
   "id": "f2cfff61-7f3a-4435-81c0-0144e63e6179",
   "metadata": {},
   "outputs": [
    {
     "data": {
      "text/plain": [
       "Pregnancies                 0\n",
       "Glucose                     0\n",
       "BloodPressure               0\n",
       "SkinThickness               0\n",
       "Insulin                     0\n",
       "BMI                         0\n",
       "DiabetesPedigreeFunction    0\n",
       "Age                         0\n",
       "Outcome                     0\n",
       "dtype: int64"
      ]
     },
     "execution_count": 7,
     "metadata": {},
     "output_type": "execute_result"
    }
   ],
   "source": [
    "data.isna().sum()"
   ]
  },
  {
   "cell_type": "markdown",
   "id": "54676b0b-51a9-4994-8948-efaf7fb5223a",
   "metadata": {},
   "source": [
    "Iz prethodnih linija koda i njihovih izlaza možemo izvesti nekoliko osnovnih zaključaka:\n",
    "- dataset se sastoji od 768 primjera i 9 značajki koje razmatramo\n",
    "- jedino je značajka Outcome binarna što je i logično jer nam govori ima li osoba dijabetes ili ne, dok ostale značajke poprimaju razne vrijednosti\n",
    "- nemamo nijedan NA podatak što je odlično, ali očito su ti podaci zamijenjeni nulama što nam ne odgovara jer ne smiju biti nula tako da ću te podatke isključiti iz analiza ovisno o potrebi\n",
    "\n",
    "U sljedećim redovima su objašnjenja pojedinih značajki sa stranice:\n",
    "- Pregnancies - number of times pregnant\n",
    "- Glucose - plasma glucose concentration a 2 hours in an oral glucose tolerance test\n",
    "- BloodPressure - diastolic blood pressure (mm Hg)\n",
    "- SkinThickness - triceps skin fold thickness (mm)\n",
    "- Insulin - 2-Hour serum insulin (mu U/ml)\n",
    "- BMI - body mass index (weight in kg/(height in m)^2)\n",
    "- DiabetesPedigree - diabetes pedigree function\n",
    "- Age - age (years)\n",
    "- Outcome - class variable (0 or 1) 268 of 768 are 1, the others are 0\n",
    "\n",
    "Moj cilj je analizirati značajke i probati doći do kvalitetnih zaključaka o predispozicijama za dijabetes. "
   ]
  },
  {
   "cell_type": "markdown",
   "id": "795fc0ec-28a0-4da6-80d7-645eade50e46",
   "metadata": {},
   "source": [
    "#### b) Prilagodba podataka za analizu"
   ]
  },
  {
   "cell_type": "code",
   "execution_count": 8,
   "id": "9a455098-afa2-43d4-9787-35d38e9f62e8",
   "metadata": {
    "tags": []
   },
   "outputs": [],
   "source": [
    "data_glucose = data[data.Glucose > 0]\n",
    "data_blood = data[data.BloodPressure > 0]\n",
    "data_skin = data[data.SkinThickness > 0]\n",
    "data_insulin = data[data.Insulin > 0]\n",
    "data_bmi = data[data.BMI > 0]\n",
    "\n",
    "#print(min(data_glucose.Glucose))\n",
    "#print(min(data_blood.BloodPressure))\n",
    "#print(min(data_skin.SkinThickness))\n",
    "#print(min(data_insulin.Insulin))\n",
    "#print(min(data_bmi.BMI))"
   ]
  },
  {
   "cell_type": "markdown",
   "id": "e1b68da8-43ed-4e63-97a3-4a23cf36ae8b",
   "metadata": {},
   "source": [
    "### 2. Vizualizacija podataka"
   ]
  },
  {
   "cell_type": "markdown",
   "id": "a06686d0-2638-4775-840b-a0a3edc22fc3",
   "metadata": {},
   "source": [
    "#### a) Pie chart oboljelih od dijabetesa"
   ]
  },
  {
   "cell_type": "code",
   "execution_count": 40,
   "id": "f3a9eda3-ee59-4016-a5ea-c2e34bb108f9",
   "metadata": {
    "tags": []
   },
   "outputs": [
    {
     "data": {
      "image/png": "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",
      "text/plain": [
       "<Figure size 600x400 with 1 Axes>"
      ]
     },
     "metadata": {},
     "output_type": "display_data"
    }
   ],
   "source": [
    "count_sick = data.groupby('Outcome').count().loc[:,'Age'].values\n",
    "percent = count_sick/len(data)*100\n",
    "plt.figure(figsize=(6,4))\n",
    "plt.pie(percent, labels = (\"No diabetes\", \"Diabetes\"), autopct = '%.2f')\n",
    "plt.show()"
   ]
  },
  {
   "cell_type": "markdown",
   "id": "c31fe7c1-3e82-4257-897d-9c4e8787e55f",
   "metadata": {},
   "source": [
    "#### b) Histogrami svih značajki u odnosu na stanje bolesti"
   ]
  },
  {
   "cell_type": "code",
   "execution_count": 15,
   "id": "a376f15c-bb9f-443d-ae6a-2588df2a35b7",
   "metadata": {},
   "outputs": [
    {
     "data": {
      "image/png": "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",
      "text/plain": [
       "<Figure size 1600x1600 with 8 Axes>"
      ]
     },
     "metadata": {},
     "output_type": "display_data"
    }
   ],
   "source": [
    "plt.figure(figsize=(16,16))\n",
    "\n",
    "plt.subplot(3,3,1)\n",
    "plt.hist(data[data.Outcome == 1].Pregnancies, bins=17, range=(0,17), label='Pregnancies diabetes', color='green', alpha=0.4)\n",
    "plt.hist(data[data.Outcome == 0].Pregnancies, bins=17, range=(0,17), label='Pregnancies no diabetes', color='blue', alpha=0.4)\n",
    "plt.legend(loc='best')\n",
    "plt.grid()\n",
    "\n",
    "plt.subplot(3,3,2)\n",
    "plt.hist(data_glucose[data_glucose.Outcome == 1].Glucose, bins=30, range=(40,200), label='Glucose diabetes', color='green', alpha=0.4)\n",
    "plt.hist(data_glucose[data_glucose.Outcome == 0].Glucose, bins=30, range=(40,200), label='Glucose no diabetes', color='blue', alpha=0.4)\n",
    "plt.legend(loc='best')\n",
    "plt.grid()\n",
    "\n",
    "plt.subplot(3,3,3)\n",
    "plt.hist(data_blood[data_blood.Outcome == 1].BloodPressure, bins=30, range=(20,125), label='BloodPressure diabetes', color='green', alpha=0.4)\n",
    "plt.hist(data_blood[data_blood.Outcome == 0].BloodPressure, bins=30, range=(20,125), label='BloodPressure no diabetes', color='blue', alpha=0.4)\n",
    "plt.legend(loc='best')\n",
    "plt.grid()\n",
    "\n",
    "plt.subplot(3,3,4)\n",
    "plt.hist(data_skin[data_skin.Outcome == 1].SkinThickness, bins=30, range=(5,60), label='SkinThickness diabetes', color='green', alpha=0.4)\n",
    "plt.hist(data_skin[data_skin.Outcome == 0].SkinThickness, bins=30, range=(5,60), label='SkinThickness no diabetes', color='blue', alpha=0.4)\n",
    "plt.legend(loc='best')\n",
    "plt.grid()\n",
    "\n",
    "plt.subplot(3,3,5)\n",
    "plt.hist(data_insulin[data_insulin.Outcome == 1].Insulin, bins=100, range=(0,1000), label='Insulin diabetes', color='green', alpha=0.4)\n",
    "plt.hist(data_insulin[data_insulin.Outcome == 0].Insulin, bins=100, range=(0,1000), label='Insulin no diabetes', color='blue', alpha=0.4)\n",
    "plt.legend(loc='best')\n",
    "plt.grid()\n",
    "\n",
    "plt.subplot(3,3,6)\n",
    "plt.hist(data_bmi[data_bmi.Outcome == 1].BMI, bins=35, range=(15,70), label='BMI diabetes', color='green', alpha=0.4)\n",
    "plt.hist(data_bmi[data_bmi.Outcome == 0].BMI, bins=35, range=(15,70), label='BMI no diabetes', color='blue', alpha=0.4)\n",
    "plt.legend(loc='best')\n",
    "plt.grid()\n",
    "\n",
    "plt.subplot(3,3,7)\n",
    "plt.hist(data[data.Outcome == 1].DiabetesPedigreeFunction, bins=30, range=(0,3), label='DiabetesPedigreeFunction diabetes', color='green', alpha=0.4)\n",
    "plt.hist(data[data.Outcome == 0].DiabetesPedigreeFunction, bins=30, range=(0,3), label='DiabetesPedigreeFunction no diabetes', color='blue', alpha=0.4)\n",
    "plt.legend(loc='best')\n",
    "plt.grid()\n",
    "\n",
    "plt.subplot(3,3,8)\n",
    "plt.hist(data[data.Outcome == 1].Age, bins=30, range=(20,80), label='Age diabetes', color='green', alpha=0.4)\n",
    "plt.hist(data[data.Outcome == 0].Age, bins=30, range=(20,80), label='Age no diabetes', color='blue', alpha=0.4)\n",
    "plt.legend(loc='best')\n",
    "plt.grid()\n",
    "\n",
    "plt.show()"
   ]
  },
  {
   "cell_type": "code",
   "execution_count": 18,
   "id": "bfdf8935-1d48-45f8-a059-9944130176a0",
   "metadata": {
    "tags": []
   },
   "outputs": [],
   "source": [
    "data_sick = data[(data.Outcome == 1)]\n",
    "data_healthy = data[(data.Outcome == 0)]\n",
    "\n",
    "data_null = data[(data.Glucose == 0) | (data.BloodPressure == 0) | (data.SkinThickness == 0) | (data.Insulin == 0) | (data.BMI == 0)]\n",
    "#data_useful = data[~data_null]"
   ]
  },
  {
   "cell_type": "code",
   "execution_count": 19,
   "id": "cdbedee2-921e-4563-841c-39ae3b12acde",
   "metadata": {
    "tags": []
   },
   "outputs": [
    {
     "data": {
      "text/html": [
       "<div>\n",
       "<style scoped>\n",
       "    .dataframe tbody tr th:only-of-type {\n",
       "        vertical-align: middle;\n",
       "    }\n",
       "\n",
       "    .dataframe tbody tr th {\n",
       "        vertical-align: top;\n",
       "    }\n",
       "\n",
       "    .dataframe thead th {\n",
       "        text-align: right;\n",
       "    }\n",
       "</style>\n",
       "<table border=\"1\" class=\"dataframe\">\n",
       "  <thead>\n",
       "    <tr style=\"text-align: right;\">\n",
       "      <th></th>\n",
       "      <th>Pregnancies</th>\n",
       "      <th>Glucose</th>\n",
       "      <th>BloodPressure</th>\n",
       "      <th>SkinThickness</th>\n",
       "      <th>Insulin</th>\n",
       "      <th>BMI</th>\n",
       "      <th>DiabetesPedigreeFunction</th>\n",
       "      <th>Age</th>\n",
       "      <th>Outcome</th>\n",
       "    </tr>\n",
       "  </thead>\n",
       "  <tbody>\n",
       "    <tr>\n",
       "      <th>count</th>\n",
       "      <td>268.000000</td>\n",
       "      <td>268.000000</td>\n",
       "      <td>268.000000</td>\n",
       "      <td>268.000000</td>\n",
       "      <td>268.000000</td>\n",
       "      <td>268.000000</td>\n",
       "      <td>268.000000</td>\n",
       "      <td>268.000000</td>\n",
       "      <td>268.0</td>\n",
       "    </tr>\n",
       "    <tr>\n",
       "      <th>mean</th>\n",
       "      <td>4.865672</td>\n",
       "      <td>141.257463</td>\n",
       "      <td>70.824627</td>\n",
       "      <td>22.164179</td>\n",
       "      <td>100.335821</td>\n",
       "      <td>35.142537</td>\n",
       "      <td>0.550500</td>\n",
       "      <td>37.067164</td>\n",
       "      <td>1.0</td>\n",
       "    </tr>\n",
       "    <tr>\n",
       "      <th>std</th>\n",
       "      <td>3.741239</td>\n",
       "      <td>31.939622</td>\n",
       "      <td>21.491812</td>\n",
       "      <td>17.679711</td>\n",
       "      <td>138.689125</td>\n",
       "      <td>7.262967</td>\n",
       "      <td>0.372354</td>\n",
       "      <td>10.968254</td>\n",
       "      <td>0.0</td>\n",
       "    </tr>\n",
       "    <tr>\n",
       "      <th>min</th>\n",
       "      <td>0.000000</td>\n",
       "      <td>0.000000</td>\n",
       "      <td>0.000000</td>\n",
       "      <td>0.000000</td>\n",
       "      <td>0.000000</td>\n",
       "      <td>0.000000</td>\n",
       "      <td>0.088000</td>\n",
       "      <td>21.000000</td>\n",
       "      <td>1.0</td>\n",
       "    </tr>\n",
       "    <tr>\n",
       "      <th>25%</th>\n",
       "      <td>1.750000</td>\n",
       "      <td>119.000000</td>\n",
       "      <td>66.000000</td>\n",
       "      <td>0.000000</td>\n",
       "      <td>0.000000</td>\n",
       "      <td>30.800000</td>\n",
       "      <td>0.262500</td>\n",
       "      <td>28.000000</td>\n",
       "      <td>1.0</td>\n",
       "    </tr>\n",
       "    <tr>\n",
       "      <th>50%</th>\n",
       "      <td>4.000000</td>\n",
       "      <td>140.000000</td>\n",
       "      <td>74.000000</td>\n",
       "      <td>27.000000</td>\n",
       "      <td>0.000000</td>\n",
       "      <td>34.250000</td>\n",
       "      <td>0.449000</td>\n",
       "      <td>36.000000</td>\n",
       "      <td>1.0</td>\n",
       "    </tr>\n",
       "    <tr>\n",
       "      <th>75%</th>\n",
       "      <td>8.000000</td>\n",
       "      <td>167.000000</td>\n",
       "      <td>82.000000</td>\n",
       "      <td>36.000000</td>\n",
       "      <td>167.250000</td>\n",
       "      <td>38.775000</td>\n",
       "      <td>0.728000</td>\n",
       "      <td>44.000000</td>\n",
       "      <td>1.0</td>\n",
       "    </tr>\n",
       "    <tr>\n",
       "      <th>max</th>\n",
       "      <td>17.000000</td>\n",
       "      <td>199.000000</td>\n",
       "      <td>114.000000</td>\n",
       "      <td>99.000000</td>\n",
       "      <td>846.000000</td>\n",
       "      <td>67.100000</td>\n",
       "      <td>2.420000</td>\n",
       "      <td>70.000000</td>\n",
       "      <td>1.0</td>\n",
       "    </tr>\n",
       "  </tbody>\n",
       "</table>\n",
       "</div>"
      ],
      "text/plain": [
       "       Pregnancies     Glucose  BloodPressure  SkinThickness     Insulin  \\\n",
       "count   268.000000  268.000000     268.000000     268.000000  268.000000   \n",
       "mean      4.865672  141.257463      70.824627      22.164179  100.335821   \n",
       "std       3.741239   31.939622      21.491812      17.679711  138.689125   \n",
       "min       0.000000    0.000000       0.000000       0.000000    0.000000   \n",
       "25%       1.750000  119.000000      66.000000       0.000000    0.000000   \n",
       "50%       4.000000  140.000000      74.000000      27.000000    0.000000   \n",
       "75%       8.000000  167.000000      82.000000      36.000000  167.250000   \n",
       "max      17.000000  199.000000     114.000000      99.000000  846.000000   \n",
       "\n",
       "              BMI  DiabetesPedigreeFunction         Age  Outcome  \n",
       "count  268.000000                268.000000  268.000000    268.0  \n",
       "mean    35.142537                  0.550500   37.067164      1.0  \n",
       "std      7.262967                  0.372354   10.968254      0.0  \n",
       "min      0.000000                  0.088000   21.000000      1.0  \n",
       "25%     30.800000                  0.262500   28.000000      1.0  \n",
       "50%     34.250000                  0.449000   36.000000      1.0  \n",
       "75%     38.775000                  0.728000   44.000000      1.0  \n",
       "max     67.100000                  2.420000   70.000000      1.0  "
      ]
     },
     "execution_count": 19,
     "metadata": {},
     "output_type": "execute_result"
    }
   ],
   "source": [
    "data_sick.describe()"
   ]
  },
  {
   "cell_type": "code",
   "execution_count": 20,
   "id": "5f9ac99f-e1a6-43d9-9adf-7a65aef156b1",
   "metadata": {
    "tags": []
   },
   "outputs": [
    {
     "data": {
      "text/html": [
       "<div>\n",
       "<style scoped>\n",
       "    .dataframe tbody tr th:only-of-type {\n",
       "        vertical-align: middle;\n",
       "    }\n",
       "\n",
       "    .dataframe tbody tr th {\n",
       "        vertical-align: top;\n",
       "    }\n",
       "\n",
       "    .dataframe thead th {\n",
       "        text-align: right;\n",
       "    }\n",
       "</style>\n",
       "<table border=\"1\" class=\"dataframe\">\n",
       "  <thead>\n",
       "    <tr style=\"text-align: right;\">\n",
       "      <th></th>\n",
       "      <th>Pregnancies</th>\n",
       "      <th>Glucose</th>\n",
       "      <th>BloodPressure</th>\n",
       "      <th>SkinThickness</th>\n",
       "      <th>Insulin</th>\n",
       "      <th>BMI</th>\n",
       "      <th>DiabetesPedigreeFunction</th>\n",
       "      <th>Age</th>\n",
       "      <th>Outcome</th>\n",
       "    </tr>\n",
       "  </thead>\n",
       "  <tbody>\n",
       "    <tr>\n",
       "      <th>count</th>\n",
       "      <td>500.000000</td>\n",
       "      <td>500.0000</td>\n",
       "      <td>500.000000</td>\n",
       "      <td>500.000000</td>\n",
       "      <td>500.000000</td>\n",
       "      <td>500.000000</td>\n",
       "      <td>500.000000</td>\n",
       "      <td>500.000000</td>\n",
       "      <td>500.0</td>\n",
       "    </tr>\n",
       "    <tr>\n",
       "      <th>mean</th>\n",
       "      <td>3.298000</td>\n",
       "      <td>109.9800</td>\n",
       "      <td>68.184000</td>\n",
       "      <td>19.664000</td>\n",
       "      <td>68.792000</td>\n",
       "      <td>30.304200</td>\n",
       "      <td>0.429734</td>\n",
       "      <td>31.190000</td>\n",
       "      <td>0.0</td>\n",
       "    </tr>\n",
       "    <tr>\n",
       "      <th>std</th>\n",
       "      <td>3.017185</td>\n",
       "      <td>26.1412</td>\n",
       "      <td>18.063075</td>\n",
       "      <td>14.889947</td>\n",
       "      <td>98.865289</td>\n",
       "      <td>7.689855</td>\n",
       "      <td>0.299085</td>\n",
       "      <td>11.667655</td>\n",
       "      <td>0.0</td>\n",
       "    </tr>\n",
       "    <tr>\n",
       "      <th>min</th>\n",
       "      <td>0.000000</td>\n",
       "      <td>0.0000</td>\n",
       "      <td>0.000000</td>\n",
       "      <td>0.000000</td>\n",
       "      <td>0.000000</td>\n",
       "      <td>0.000000</td>\n",
       "      <td>0.078000</td>\n",
       "      <td>21.000000</td>\n",
       "      <td>0.0</td>\n",
       "    </tr>\n",
       "    <tr>\n",
       "      <th>25%</th>\n",
       "      <td>1.000000</td>\n",
       "      <td>93.0000</td>\n",
       "      <td>62.000000</td>\n",
       "      <td>0.000000</td>\n",
       "      <td>0.000000</td>\n",
       "      <td>25.400000</td>\n",
       "      <td>0.229750</td>\n",
       "      <td>23.000000</td>\n",
       "      <td>0.0</td>\n",
       "    </tr>\n",
       "    <tr>\n",
       "      <th>50%</th>\n",
       "      <td>2.000000</td>\n",
       "      <td>107.0000</td>\n",
       "      <td>70.000000</td>\n",
       "      <td>21.000000</td>\n",
       "      <td>39.000000</td>\n",
       "      <td>30.050000</td>\n",
       "      <td>0.336000</td>\n",
       "      <td>27.000000</td>\n",
       "      <td>0.0</td>\n",
       "    </tr>\n",
       "    <tr>\n",
       "      <th>75%</th>\n",
       "      <td>5.000000</td>\n",
       "      <td>125.0000</td>\n",
       "      <td>78.000000</td>\n",
       "      <td>31.000000</td>\n",
       "      <td>105.000000</td>\n",
       "      <td>35.300000</td>\n",
       "      <td>0.561750</td>\n",
       "      <td>37.000000</td>\n",
       "      <td>0.0</td>\n",
       "    </tr>\n",
       "    <tr>\n",
       "      <th>max</th>\n",
       "      <td>13.000000</td>\n",
       "      <td>197.0000</td>\n",
       "      <td>122.000000</td>\n",
       "      <td>60.000000</td>\n",
       "      <td>744.000000</td>\n",
       "      <td>57.300000</td>\n",
       "      <td>2.329000</td>\n",
       "      <td>81.000000</td>\n",
       "      <td>0.0</td>\n",
       "    </tr>\n",
       "  </tbody>\n",
       "</table>\n",
       "</div>"
      ],
      "text/plain": [
       "       Pregnancies   Glucose  BloodPressure  SkinThickness     Insulin  \\\n",
       "count   500.000000  500.0000     500.000000     500.000000  500.000000   \n",
       "mean      3.298000  109.9800      68.184000      19.664000   68.792000   \n",
       "std       3.017185   26.1412      18.063075      14.889947   98.865289   \n",
       "min       0.000000    0.0000       0.000000       0.000000    0.000000   \n",
       "25%       1.000000   93.0000      62.000000       0.000000    0.000000   \n",
       "50%       2.000000  107.0000      70.000000      21.000000   39.000000   \n",
       "75%       5.000000  125.0000      78.000000      31.000000  105.000000   \n",
       "max      13.000000  197.0000     122.000000      60.000000  744.000000   \n",
       "\n",
       "              BMI  DiabetesPedigreeFunction         Age  Outcome  \n",
       "count  500.000000                500.000000  500.000000    500.0  \n",
       "mean    30.304200                  0.429734   31.190000      0.0  \n",
       "std      7.689855                  0.299085   11.667655      0.0  \n",
       "min      0.000000                  0.078000   21.000000      0.0  \n",
       "25%     25.400000                  0.229750   23.000000      0.0  \n",
       "50%     30.050000                  0.336000   27.000000      0.0  \n",
       "75%     35.300000                  0.561750   37.000000      0.0  \n",
       "max     57.300000                  2.329000   81.000000      0.0  "
      ]
     },
     "execution_count": 20,
     "metadata": {},
     "output_type": "execute_result"
    }
   ],
   "source": [
    "data_healthy.describe()"
   ]
  },
  {
   "cell_type": "code",
   "execution_count": 21,
   "id": "e5515713-7800-4b3d-871e-6f9d5d403d4b",
   "metadata": {
    "tags": []
   },
   "outputs": [
    {
     "name": "stdout",
     "output_type": "stream",
     "text": [
      "Sick vs healthy\n",
      "142.31954887218046 vs. 110.64386317907444\n",
      "75.32142857142857 vs. 70.87733887733887\n",
      "33.0 vs. 27.235457063711912\n",
      "206.84615384615384 vs. 130.28787878787878\n",
      "35.40676691729323 vs. 30.859674134419553\n"
     ]
    }
   ],
   "source": [
    "print(\"Sick vs healthy\")\n",
    "print(f\"{np.mean(data_glucose[data_glucose.Outcome == 1].Glucose)} vs. {np.mean(data_glucose[data_glucose.Outcome == 0].Glucose)}\")\n",
    "print(f\"{np.mean(data_blood[data_blood.Outcome == 1].BloodPressure)} vs. {np.mean(data_blood[data_blood.Outcome == 0].BloodPressure)}\")\n",
    "print(f\"{np.mean(data_skin[data_skin.Outcome == 1].SkinThickness)} vs. {np.mean(data_skin[data_skin.Outcome == 0].SkinThickness)}\")\n",
    "print(f\"{np.mean(data_insulin[data_insulin.Outcome == 1].Insulin)} vs. {np.mean(data_insulin[data_insulin.Outcome == 0].Insulin)}\")\n",
    "print(f\"{np.mean(data_bmi[data_bmi.Outcome == 1].BMI)} vs. {np.mean(data_bmi[data_bmi.Outcome == 0].BMI)}\")\n",
    "\n",
    "#data_insulin[data_insulin.Outcome == 1].describe() # 206 14 127 169 239\n",
    "#data_insulin[data_insulin.Outcome == 0].describe() # 130 15 66 102 161"
   ]
  },
  },
  {
   "cell_type": "markdown",
   "id": "55ebf6b5-42b2-46d0-a70a-9f274d68e0cc",
   "metadata": {},
   "source": [
    "#### y) X tip vizualizacije"
   ]
  },
  {
   "cell_type": "code",
   "execution_count": null,
   "id": "0345a989-ba15-4db7-b01e-a315bf9d26e6",
   "metadata": {},
   "outputs": [],
   "source": []
  },
  {
   "cell_type": "markdown",
   "id": "e906dcc3-a40b-45d7-954c-659c12ae866f",
   "metadata": {},
   "source": [
    "#### y) X tip vizualizacije"
   ]
  },
  {
   "cell_type": "code",
   "execution_count": null,
   "id": "951c92d3-627f-4ce9-931a-35a6cf66da37",
   "metadata": {},
   "outputs": [],
   "source": []
  },
  {
   "cell_type": "markdown",
   "id": "20269988-d0f4-4017-a7b5-a8ee3571a2cf",
   "metadata": {},
   "source": [
    "#### y) X tip vizualizacije"
   ]
  },
  {
   "cell_type": "code",
   "execution_count": null,
   "id": "c6ebd7a3-578c-48e1-9551-68cbb7a867cc",
   "metadata": {},
   "outputs": [],
   "source": []
  },
  {
   "cell_type": "markdown",
   "id": "97e4bf18-8615-4e30-9e5a-def6737e1d7e",
   "metadata": {},
   "source": [
    "#### y) X tip vizualizacije"
   ]
  },
  {
   "cell_type": "code",
   "execution_count": null,
   "id": "d2890c87-927d-4163-87a3-024d31dd72e7",
   "metadata": {},
   "outputs": [],
   "source": []
  }
 ],
 "metadata": {
  "kernelspec": {
   "display_name": "Python 3 (ipykernel)",
   "language": "python",
   "name": "python3"
  },
  "language_info": {
   "codemirror_mode": {
    "name": "ipython",
    "version": 3
   },
   "file_extension": ".py",
   "mimetype": "text/x-python",
   "name": "python",
   "nbconvert_exporter": "python",
   "pygments_lexer": "ipython3",
   "version": "3.11.5"
  }
 },
 "nbformat": 4,
 "nbformat_minor": 5
}
