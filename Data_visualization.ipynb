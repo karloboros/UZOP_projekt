{
 "cells": [
  {
   "cell_type": "markdown",
   "id": "92c49857-11a0-4314-b718-e3a3fa91745e",
   "metadata": {
    "tags": []
   },
   "source": [
    "# Data visualization\n",
    "- Intro to Data Science\n",
    "- Karlo Boroš - 0036531517\n",
    "- Dataset: \"Pima Indians diabetes mellitus classification based on machine learning (ML) algorithms\"\n",
    "\n",
    "### Vizualizacija podataka\n",
    "- Uvod u znanost o podacima\n",
    "- Karlo Boroš - 0036531517\n",
    "- Zadani skup podataka: \"Pima Indians diabetes mellitus classification based on machine learning (ML) algorithms\""
   ]
  },
  {
   "cell_type": "markdown",
   "id": "a5c21003-51f2-40e2-88ff-1d66ba5836e1",
   "metadata": {},
   "source": [
    "### 0. Učitavanje potrebnih paketa"
   ]
  },
  {
   "cell_type": "code",
   "execution_count": 1,
   "id": "ff2982ee-6bae-4031-9a73-23cde58e4bdf",
   "metadata": {
    "tags": []
   },
   "outputs": [],
   "source": [
    "import numpy as np\n",
    "import pandas as pd\n",
    "import matplotlib.pyplot as plt\n",
    "import seaborn as sns"
   ]
  },
  {
   "cell_type": "markdown",
   "id": "4d72104d-0527-453e-93ff-9b56dbf4d74e",
   "metadata": {},
   "source": [
    "### 1. Priprema podataka"
   ]
  },
  {
   "cell_type": "markdown",
   "id": "06d0e05d-4fb9-4643-a15a-8703d4e3a9e3",
   "metadata": {},
   "source": [
    "#### a) Učitavanje skupa i prvi pogled na podatke"
   ]
  },
  {
   "cell_type": "code",
   "execution_count": 2,
   "id": "b3d1b20c-14db-4c6d-8382-e86a17ee10fd",
   "metadata": {},
   "outputs": [],
   "source": [
    "data = pd.read_csv(\"diabetes.csv\")"
   ]
  },
  {
   "cell_type": "code",
   "execution_count": 3,
   "id": "46485149-4ff5-4a9c-9a8d-af9c330548d3",
   "metadata": {},
   "outputs": [
    {
     "data": {
      "text/plain": [
       "(768, 9)"
      ]
     },
     "execution_count": 3,
     "metadata": {},
     "output_type": "execute_result"
    }
   ],
   "source": [
    "data.shape"
   ]
  },
  {
   "cell_type": "code",
   "execution_count": 41,
   "id": "dcc0573e-0707-406f-b50e-69d6fe55e5bd",
   "metadata": {
    "tags": []
   },
   "outputs": [
    {
     "name": "stdout",
     "output_type": "stream",
     "text": [
      "<class 'pandas.core.frame.DataFrame'>\n",
      "RangeIndex: 768 entries, 0 to 767\n",
      "Data columns (total 9 columns):\n",
      " #   Column                    Non-Null Count  Dtype  \n",
      "---  ------                    --------------  -----  \n",
      " 0   Pregnancies               768 non-null    int64  \n",
      " 1   Glucose                   768 non-null    int64  \n",
      " 2   BloodPressure             768 non-null    int64  \n",
      " 3   SkinThickness             768 non-null    int64  \n",
      " 4   Insulin                   768 non-null    int64  \n",
      " 5   BMI                       768 non-null    float64\n",
      " 6   DiabetesPedigreeFunction  768 non-null    float64\n",
      " 7   Age                       768 non-null    int64  \n",
      " 8   Outcome                   768 non-null    int64  \n",
      "dtypes: float64(2), int64(7)\n",
      "memory usage: 54.1 KB\n"
     ]
    }
   ],
   "source": [
    "data.info()"
   ]
  },
  {
   "cell_type": "code",
   "execution_count": 4,
   "id": "97298322-3300-49d1-b13d-2a06a83dd30c",
   "metadata": {},
   "outputs": [
    {
     "data": {
      "text/html": [
       "<div>\n",
       "<style scoped>\n",
       "    .dataframe tbody tr th:only-of-type {\n",
       "        vertical-align: middle;\n",
       "    }\n",
       "\n",
       "    .dataframe tbody tr th {\n",
       "        vertical-align: top;\n",
       "    }\n",
       "\n",
       "    .dataframe thead th {\n",
       "        text-align: right;\n",
       "    }\n",
       "</style>\n",
       "<table border=\"1\" class=\"dataframe\">\n",
       "  <thead>\n",
       "    <tr style=\"text-align: right;\">\n",
       "      <th></th>\n",
       "      <th>Pregnancies</th>\n",
       "      <th>Glucose</th>\n",
       "      <th>BloodPressure</th>\n",
       "      <th>SkinThickness</th>\n",
       "      <th>Insulin</th>\n",
       "      <th>BMI</th>\n",
       "      <th>DiabetesPedigreeFunction</th>\n",
       "      <th>Age</th>\n",
       "      <th>Outcome</th>\n",
       "    </tr>\n",
       "  </thead>\n",
       "  <tbody>\n",
       "    <tr>\n",
       "      <th>0</th>\n",
       "      <td>6</td>\n",
       "      <td>148</td>\n",
       "      <td>72</td>\n",
       "      <td>35</td>\n",
       "      <td>0</td>\n",
       "      <td>33.6</td>\n",
       "      <td>0.627</td>\n",
       "      <td>50</td>\n",
       "      <td>1</td>\n",
       "    </tr>\n",
       "    <tr>\n",
       "      <th>1</th>\n",
       "      <td>1</td>\n",
       "      <td>85</td>\n",
       "      <td>66</td>\n",
       "      <td>29</td>\n",
       "      <td>0</td>\n",
       "      <td>26.6</td>\n",
       "      <td>0.351</td>\n",
       "      <td>31</td>\n",
       "      <td>0</td>\n",
       "    </tr>\n",
       "    <tr>\n",
       "      <th>2</th>\n",
       "      <td>8</td>\n",
       "      <td>183</td>\n",
       "      <td>64</td>\n",
       "      <td>0</td>\n",
       "      <td>0</td>\n",
       "      <td>23.3</td>\n",
       "      <td>0.672</td>\n",
       "      <td>32</td>\n",
       "      <td>1</td>\n",
       "    </tr>\n",
       "    <tr>\n",
       "      <th>3</th>\n",
       "      <td>1</td>\n",
       "      <td>89</td>\n",
       "      <td>66</td>\n",
       "      <td>23</td>\n",
       "      <td>94</td>\n",
       "      <td>28.1</td>\n",
       "      <td>0.167</td>\n",
       "      <td>21</td>\n",
       "      <td>0</td>\n",
       "    </tr>\n",
       "    <tr>\n",
       "      <th>4</th>\n",
       "      <td>0</td>\n",
       "      <td>137</td>\n",
       "      <td>40</td>\n",
       "      <td>35</td>\n",
       "      <td>168</td>\n",
       "      <td>43.1</td>\n",
       "      <td>2.288</td>\n",
       "      <td>33</td>\n",
       "      <td>1</td>\n",
       "    </tr>\n",
       "  </tbody>\n",
       "</table>\n",
       "</div>"
      ],
      "text/plain": [
       "   Pregnancies  Glucose  BloodPressure  SkinThickness  Insulin   BMI  \\\n",
       "0            6      148             72             35        0  33.6   \n",
       "1            1       85             66             29        0  26.6   \n",
       "2            8      183             64              0        0  23.3   \n",
       "3            1       89             66             23       94  28.1   \n",
       "4            0      137             40             35      168  43.1   \n",
       "\n",
       "   DiabetesPedigreeFunction  Age  Outcome  \n",
       "0                     0.627   50        1  \n",
       "1                     0.351   31        0  \n",
       "2                     0.672   32        1  \n",
       "3                     0.167   21        0  \n",
       "4                     2.288   33        1  "
      ]
     },
     "execution_count": 4,
     "metadata": {},
     "output_type": "execute_result"
    }
   ],
   "source": [
    "data.head()"
   ]
  },
  {
   "cell_type": "code",
   "execution_count": 5,
   "id": "83a1f225-a7b5-421b-bbbb-a261edce0815",
   "metadata": {},
   "outputs": [
    {
     "data": {
      "text/html": [
       "<div>\n",
       "<style scoped>\n",
       "    .dataframe tbody tr th:only-of-type {\n",
       "        vertical-align: middle;\n",
       "    }\n",
       "\n",
       "    .dataframe tbody tr th {\n",
       "        vertical-align: top;\n",
       "    }\n",
       "\n",
       "    .dataframe thead th {\n",
       "        text-align: right;\n",
       "    }\n",
       "</style>\n",
       "<table border=\"1\" class=\"dataframe\">\n",
       "  <thead>\n",
       "    <tr style=\"text-align: right;\">\n",
       "      <th></th>\n",
       "      <th>Pregnancies</th>\n",
       "      <th>Glucose</th>\n",
       "      <th>BloodPressure</th>\n",
       "      <th>SkinThickness</th>\n",
       "      <th>Insulin</th>\n",
       "      <th>BMI</th>\n",
       "      <th>DiabetesPedigreeFunction</th>\n",
       "      <th>Age</th>\n",
       "      <th>Outcome</th>\n",
       "    </tr>\n",
       "  </thead>\n",
       "  <tbody>\n",
       "    <tr>\n",
       "      <th>count</th>\n",
       "      <td>768.000000</td>\n",
       "      <td>768.000000</td>\n",
       "      <td>768.000000</td>\n",
       "      <td>768.000000</td>\n",
       "      <td>768.000000</td>\n",
       "      <td>768.000000</td>\n",
       "      <td>768.000000</td>\n",
       "      <td>768.000000</td>\n",
       "      <td>768.000000</td>\n",
       "    </tr>\n",
       "    <tr>\n",
       "      <th>mean</th>\n",
       "      <td>3.845052</td>\n",
       "      <td>120.894531</td>\n",
       "      <td>69.105469</td>\n",
       "      <td>20.536458</td>\n",
       "      <td>79.799479</td>\n",
       "      <td>31.992578</td>\n",
       "      <td>0.471876</td>\n",
       "      <td>33.240885</td>\n",
       "      <td>0.348958</td>\n",
       "    </tr>\n",
       "    <tr>\n",
       "      <th>std</th>\n",
       "      <td>3.369578</td>\n",
       "      <td>31.972618</td>\n",
       "      <td>19.355807</td>\n",
       "      <td>15.952218</td>\n",
       "      <td>115.244002</td>\n",
       "      <td>7.884160</td>\n",
       "      <td>0.331329</td>\n",
       "      <td>11.760232</td>\n",
       "      <td>0.476951</td>\n",
       "    </tr>\n",
       "    <tr>\n",
       "      <th>min</th>\n",
       "      <td>0.000000</td>\n",
       "      <td>0.000000</td>\n",
       "      <td>0.000000</td>\n",
       "      <td>0.000000</td>\n",
       "      <td>0.000000</td>\n",
       "      <td>0.000000</td>\n",
       "      <td>0.078000</td>\n",
       "      <td>21.000000</td>\n",
       "      <td>0.000000</td>\n",
       "    </tr>\n",
       "    <tr>\n",
       "      <th>25%</th>\n",
       "      <td>1.000000</td>\n",
       "      <td>99.000000</td>\n",
       "      <td>62.000000</td>\n",
       "      <td>0.000000</td>\n",
       "      <td>0.000000</td>\n",
       "      <td>27.300000</td>\n",
       "      <td>0.243750</td>\n",
       "      <td>24.000000</td>\n",
       "      <td>0.000000</td>\n",
       "    </tr>\n",
       "    <tr>\n",
       "      <th>50%</th>\n",
       "      <td>3.000000</td>\n",
       "      <td>117.000000</td>\n",
       "      <td>72.000000</td>\n",
       "      <td>23.000000</td>\n",
       "      <td>30.500000</td>\n",
       "      <td>32.000000</td>\n",
       "      <td>0.372500</td>\n",
       "      <td>29.000000</td>\n",
       "      <td>0.000000</td>\n",
       "    </tr>\n",
       "    <tr>\n",
       "      <th>75%</th>\n",
       "      <td>6.000000</td>\n",
       "      <td>140.250000</td>\n",
       "      <td>80.000000</td>\n",
       "      <td>32.000000</td>\n",
       "      <td>127.250000</td>\n",
       "      <td>36.600000</td>\n",
       "      <td>0.626250</td>\n",
       "      <td>41.000000</td>\n",
       "      <td>1.000000</td>\n",
       "    </tr>\n",
       "    <tr>\n",
       "      <th>max</th>\n",
       "      <td>17.000000</td>\n",
       "      <td>199.000000</td>\n",
       "      <td>122.000000</td>\n",
       "      <td>99.000000</td>\n",
       "      <td>846.000000</td>\n",
       "      <td>67.100000</td>\n",
       "      <td>2.420000</td>\n",
       "      <td>81.000000</td>\n",
       "      <td>1.000000</td>\n",
       "    </tr>\n",
       "  </tbody>\n",
       "</table>\n",
       "</div>"
      ],
      "text/plain": [
       "       Pregnancies     Glucose  BloodPressure  SkinThickness     Insulin  \\\n",
       "count   768.000000  768.000000     768.000000     768.000000  768.000000   \n",
       "mean      3.845052  120.894531      69.105469      20.536458   79.799479   \n",
       "std       3.369578   31.972618      19.355807      15.952218  115.244002   \n",
       "min       0.000000    0.000000       0.000000       0.000000    0.000000   \n",
       "25%       1.000000   99.000000      62.000000       0.000000    0.000000   \n",
       "50%       3.000000  117.000000      72.000000      23.000000   30.500000   \n",
       "75%       6.000000  140.250000      80.000000      32.000000  127.250000   \n",
       "max      17.000000  199.000000     122.000000      99.000000  846.000000   \n",
       "\n",
       "              BMI  DiabetesPedigreeFunction         Age     Outcome  \n",
       "count  768.000000                768.000000  768.000000  768.000000  \n",
       "mean    31.992578                  0.471876   33.240885    0.348958  \n",
       "std      7.884160                  0.331329   11.760232    0.476951  \n",
       "min      0.000000                  0.078000   21.000000    0.000000  \n",
       "25%     27.300000                  0.243750   24.000000    0.000000  \n",
       "50%     32.000000                  0.372500   29.000000    0.000000  \n",
       "75%     36.600000                  0.626250   41.000000    1.000000  \n",
       "max     67.100000                  2.420000   81.000000    1.000000  "
      ]
     },
     "execution_count": 5,
     "metadata": {},
     "output_type": "execute_result"
    }
   ],
   "source": [
    "data.describe()"
   ]
  },
  {
   "cell_type": "code",
   "execution_count": 6,
   "id": "ee8cbfd7-9544-48d6-925d-ac71c33c4d66",
   "metadata": {},
   "outputs": [
    {
     "data": {
      "text/plain": [
       "Pregnancies                  17\n",
       "Glucose                     136\n",
       "BloodPressure                47\n",
       "SkinThickness                51\n",
       "Insulin                     186\n",
       "BMI                         248\n",
       "DiabetesPedigreeFunction    517\n",
       "Age                          52\n",
       "Outcome                       2\n",
       "dtype: int64"
      ]
     },
     "execution_count": 6,
     "metadata": {},
     "output_type": "execute_result"
    }
   ],
   "source": [
    "data.nunique()"
   ]
  },
  {
   "cell_type": "code",
   "execution_count": 7,
   "id": "f2cfff61-7f3a-4435-81c0-0144e63e6179",
   "metadata": {},
   "outputs": [
    {
     "data": {
      "text/plain": [
       "Pregnancies                 0\n",
       "Glucose                     0\n",
       "BloodPressure               0\n",
       "SkinThickness               0\n",
       "Insulin                     0\n",
       "BMI                         0\n",
       "DiabetesPedigreeFunction    0\n",
       "Age                         0\n",
       "Outcome                     0\n",
       "dtype: int64"
      ]
     },
     "execution_count": 7,
     "metadata": {},
     "output_type": "execute_result"
    }
   ],
   "source": [
    "data.isna().sum()"
   ]
  },
  {
   "cell_type": "markdown",
   "id": "54676b0b-51a9-4994-8948-efaf7fb5223a",
   "metadata": {},
   "source": [
    "Iz prethodnih linija koda i njihovih izlaza možemo izvesti nekoliko osnovnih zaključaka:\n",
    "- dataset se sastoji od 768 primjera i 9 značajki koje razmatramo\n",
    "- jedino je značajka Outcome binarna što je i logično jer nam govori ima li osoba dijabetes ili ne, dok ostale značajke poprimaju razne vrijednosti\n",
    "- nemamo nijedan NA podatak što je odlično, ali očito su ti podaci zamijenjeni nulama što nam ne odgovara jer ne smiju biti nula tako da ću te podatke isključiti iz analiza ovisno o potrebi\n",
    "\n",
    "U sljedećim redovima su objašnjenja pojedinih značajki sa stranice:\n",
    "- Pregnancies - number of times pregnant\n",
    "- Glucose - plasma glucose concentration a 2 hours in an oral glucose tolerance test\n",
    "- BloodPressure - diastolic blood pressure (mm Hg)\n",
    "- SkinThickness - triceps skin fold thickness (mm)\n",
    "- Insulin - 2-Hour serum insulin (mu U/ml)\n",
    "- BMI - body mass index (weight in kg/(height in m)^2)\n",
    "- DiabetesPedigree - diabetes pedigree function\n",
    "- Age - age (years)\n",
    "- Outcome - class variable (0 or 1) 268 of 768 are 1, the others are 0\n",
    "\n",
    "Moj cilj je analizirati značajke i probati doći do kvalitetnih zaključaka o predispozicijama za dijabetes. "
   ]
  },
  {
   "cell_type": "markdown",
   "id": "795fc0ec-28a0-4da6-80d7-645eade50e46",
   "metadata": {},
   "source": [
    "#### b) Prilagodba podataka za analizu"
   ]
  },
  {
   "cell_type": "code",
   "execution_count": 8,
   "id": "9a455098-afa2-43d4-9787-35d38e9f62e8",
   "metadata": {
    "tags": []
   },
   "outputs": [],
   "source": [
    "data_glucose = data[data.Glucose > 0]\n",
    "data_blood = data[data.BloodPressure > 0]\n",
    "data_skin = data[data.SkinThickness > 0]\n",
    "data_insulin = data[data.Insulin > 0]\n",
    "data_bmi = data[data.BMI > 0]\n",
    "\n",
    "#print(min(data_glucose.Glucose))\n",
    "#print(min(data_blood.BloodPressure))\n",
    "#print(min(data_skin.SkinThickness))\n",
    "#print(min(data_insulin.Insulin))\n",
    "#print(min(data_bmi.BMI))"
   ]
  },
  {
   "cell_type": "markdown",
   "id": "e1b68da8-43ed-4e63-97a3-4a23cf36ae8b",
   "metadata": {},
   "source": [
    "### 2. Vizualizacija podataka"
   ]
  },
  {
   "cell_type": "markdown",
   "id": "a06686d0-2638-4775-840b-a0a3edc22fc3",
   "metadata": {},
   "source": [
    "#### a) Pie chart oboljelih od dijabetesa"
   ]
  },
  {
   "cell_type": "code",
   "execution_count": 40,
   "id": "f3a9eda3-ee59-4016-a5ea-c2e34bb108f9",
   "metadata": {
    "tags": []
   },
   "outputs": [
    {
     "data": {
      "image/png": "[encoded data removed]",
      "text/plain": [
       "<Figure size 600x400 with 1 Axes>"
      ]
     },
     "metadata": {},
     "output_type": "display_data"
    }
   ],
   "source": [
    "count_sick = data.groupby('Outcome').count().loc[:,'Age'].values\n",
    "percent = count_sick/len(data)*100\n",
    "plt.figure(figsize=(6,4))\n",
    "plt.pie(percent, labels = (\"No diabetes\", \"Diabetes\"), autopct = '%.2f')\n",
    "plt.show()"
   ]
  },
  {
   "cell_type": "markdown",
   "id": "c31fe7c1-3e82-4257-897d-9c4e8787e55f",
   "metadata": {},
   "source": [
    "#### y) X tip vizualizacije"
   ]
  },
  {
   "cell_type": "code",
   "execution_count": null,
   "id": "a376f15c-bb9f-443d-ae6a-2588df2a35b7",
   "metadata": {},
   "outputs": [],
   "source": []
  },
  {
   "cell_type": "markdown",
   "id": "55ebf6b5-42b2-46d0-a70a-9f274d68e0cc",
   "metadata": {},
   "source": [
    "#### y) X tip vizualizacije"
   ]
  },
  {
   "cell_type": "code",
   "execution_count": null,
   "id": "0345a989-ba15-4db7-b01e-a315bf9d26e6",
   "metadata": {},
   "outputs": [],
   "source": []
  },
  {
   "cell_type": "markdown",
   "id": "e906dcc3-a40b-45d7-954c-659c12ae866f",
   "metadata": {},
   "source": [
    "#### y) X tip vizualizacije"
   ]
  },
  {
   "cell_type": "code",
   "execution_count": null,
   "id": "951c92d3-627f-4ce9-931a-35a6cf66da37",
   "metadata": {},
   "outputs": [],
   "source": []
  },
  {
   "cell_type": "markdown",
   "id": "20269988-d0f4-4017-a7b5-a8ee3571a2cf",
   "metadata": {},
   "source": [
    "#### y) X tip vizualizacije"
   ]
  },
  {
   "cell_type": "code",
   "execution_count": null,
   "id": "c6ebd7a3-578c-48e1-9551-68cbb7a867cc",
   "metadata": {},
   "outputs": [],
   "source": []
  },
  {
   "cell_type": "markdown",
   "id": "97e4bf18-8615-4e30-9e5a-def6737e1d7e",
   "metadata": {},
   "source": [
    "#### y) X tip vizualizacije"
   ]
  },
  {
   "cell_type": "code",
   "execution_count": null,
   "id": "d2890c87-927d-4163-87a3-024d31dd72e7",
   "metadata": {},
   "outputs": [],
   "source": []
  }
 ],
 "metadata": {
  "kernelspec": {
   "display_name": "Python 3 (ipykernel)",
   "language": "python",
   "name": "python3"
  },
  "language_info": {
   "codemirror_mode": {
    "name": "ipython",
    "version": 3
   },
   "file_extension": ".py",
   "mimetype": "text/x-python",
   "name": "python",
   "nbconvert_exporter": "python",
   "pygments_lexer": "ipython3",
   "version": "3.11.5"
  }
 },
 "nbformat": 4,
 "nbformat_minor": 5
}
